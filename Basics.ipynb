{
 "cells": [
  {
   "cell_type": "code",
   "execution_count": null,
   "id": "1d8798da-6c36-491e-8bc3-e31fe26d4a5e",
   "metadata": {},
   "outputs": [],
   "source": [
    "# show something as output: Use the print function"
   ]
  },
  {
   "cell_type": "code",
   "execution_count": 1,
   "id": "45ca3f56-8dd8-4703-aeec-bf878bf91904",
   "metadata": {},
   "outputs": [
    {
     "name": "stdout",
     "output_type": "stream",
     "text": [
      "Hello world\n"
     ]
    }
   ],
   "source": [
    "print(\"Hello world\")"
   ]
  },
  {
   "cell_type": "code",
   "execution_count": 58,
   "id": "8bf13c70-71a7-4a32-a5a1-e83a4a6600a3",
   "metadata": {},
   "outputs": [
    {
     "name": "stdout",
     "output_type": "stream",
     "text": [
      "990.0\n"
     ]
    }
   ],
   "source": [
    "casting_variable_type = float(990)\n",
    "print(casting_variable_type)\n"
   ]
  },
  {
   "cell_type": "code",
   "execution_count": 19,
   "id": "1990c486-5262-4c5d-a43d-7159b4d3ab7a",
   "metadata": {},
   "outputs": [
    {
     "name": "stdout",
     "output_type": "stream",
     "text": [
      "\n",
      "Here is a list of the Python keywords.  Enter any keyword to get more help.\n",
      "\n",
      "False               class               from                or\n",
      "None                continue            global              pass\n",
      "True                def                 if                  raise\n",
      "and                 del                 import              return\n",
      "as                  elif                in                  try\n",
      "assert              else                is                  while\n",
      "async               except              lambda              with\n",
      "await               finally             nonlocal            yield\n",
      "break               for                 not                 \n",
      "\n"
     ]
    }
   ],
   "source": [
    "help(\"keywords\")"
   ]
  },
  {
   "cell_type": "code",
   "execution_count": 37,
   "id": "6c0d3d0f-85b8-4bc8-9dcd-c2a99f5753a6",
   "metadata": {},
   "outputs": [
    {
     "data": {
      "text/plain": [
       "140711979661912"
      ]
     },
     "execution_count": 37,
     "metadata": {},
     "output_type": "execute_result"
    }
   ],
   "source": [
    "x = 6\n",
    "id(x)\n",
    "# id() returns unique identifier (typically memory address)"
   ]
  },
  {
   "cell_type": "code",
   "execution_count": 50,
   "id": "99e7e720-5a02-40cf-a01e-f7fbc0f7d062",
   "metadata": {},
   "outputs": [
    {
     "data": {
      "text/plain": [
       "float"
      ]
     },
     "execution_count": 50,
     "metadata": {},
     "output_type": "execute_result"
    }
   ],
   "source": [
    " # Data types in python\n",
    "# intger\n",
    "# float\n",
    "# boolean\n",
    "# string\n",
    "# none\n",
    "type(9.9)"
   ]
  },
  {
   "cell_type": "code",
   "execution_count": 62,
   "id": "19947a27-cb86-4a0c-b5f1-8fafff96b0e7",
   "metadata": {},
   "outputs": [
    {
     "name": "stdin",
     "output_type": "stream",
     "text": [
      " ram\n"
     ]
    }
   ],
   "source": [
    "name = input()"
   ]
  },
  {
   "cell_type": "code",
   "execution_count": 64,
   "id": "68f4af3c-a9db-42c9-a96a-6f0c6a041861",
   "metadata": {},
   "outputs": [
    {
     "name": "stdout",
     "output_type": "stream",
     "text": [
      "ram\n"
     ]
    }
   ],
   "source": [
    "print (name)\n"
   ]
  },
  {
   "cell_type": "code",
   "execution_count": 82,
   "id": "582db6e5-978b-4e4c-8343-19015a16606d",
   "metadata": {},
   "outputs": [
    {
     "name": "stdout",
     "output_type": "stream",
     "text": [
      "Enter Two Number\n"
     ]
    },
    {
     "name": "stdin",
     "output_type": "stream",
     "text": [
      " 99\n",
      " 9\n"
     ]
    },
    {
     "name": "stdout",
     "output_type": "stream",
     "text": [
      "108\n"
     ]
    }
   ],
   "source": [
    "# take two numbers as input and give sum\n",
    "\n",
    "print(\"Enter Two Number\")\n",
    "a = int(input())\n",
    "b =int(input())\n",
    "sum=a + b\n",
    "print(sum)"
   ]
  },
  {
   "cell_type": "code",
   "execution_count": 84,
   "id": "4e0c7f92-1fe4-49bd-bb1c-0ad661928b90",
   "metadata": {},
   "outputs": [
    {
     "name": "stdout",
     "output_type": "stream",
     "text": [
      "Object `import` not found.\n"
     ]
    }
   ],
   "source": [
    "import?\n"
   ]
  },
  {
   "cell_type": "code",
   "execution_count": 86,
   "id": "baf54b83-9c36-4f9d-a83d-325922faba1e",
   "metadata": {},
   "outputs": [
    {
     "data": {
      "text/plain": [
       "\u001b[1;31mSignature:\u001b[0m \u001b[0mprint\u001b[0m\u001b[1;33m(\u001b[0m\u001b[1;33m*\u001b[0m\u001b[0margs\u001b[0m\u001b[1;33m,\u001b[0m \u001b[0msep\u001b[0m\u001b[1;33m=\u001b[0m\u001b[1;34m' '\u001b[0m\u001b[1;33m,\u001b[0m \u001b[0mend\u001b[0m\u001b[1;33m=\u001b[0m\u001b[1;34m'\\n'\u001b[0m\u001b[1;33m,\u001b[0m \u001b[0mfile\u001b[0m\u001b[1;33m=\u001b[0m\u001b[1;32mNone\u001b[0m\u001b[1;33m,\u001b[0m \u001b[0mflush\u001b[0m\u001b[1;33m=\u001b[0m\u001b[1;32mFalse\u001b[0m\u001b[1;33m)\u001b[0m\u001b[1;33m\u001b[0m\u001b[1;33m\u001b[0m\u001b[0m\n",
       "\u001b[1;31mDocstring:\u001b[0m\n",
       "Prints the values to a stream, or to sys.stdout by default.\n",
       "\n",
       "sep\n",
       "  string inserted between values, default a space.\n",
       "end\n",
       "  string appended after the last value, default a newline.\n",
       "file\n",
       "  a file-like object (stream); defaults to the current sys.stdout.\n",
       "flush\n",
       "  whether to forcibly flush the stream.\n",
       "\u001b[1;31mType:\u001b[0m      builtin_function_or_method"
      ]
     },
     "metadata": {},
     "output_type": "display_data"
    }
   ],
   "source": [
    "print?"
   ]
  },
  {
   "cell_type": "code",
   "execution_count": 88,
   "id": "913ea5ee-031d-4a6d-82b6-868ce4919679",
   "metadata": {},
   "outputs": [
    {
     "name": "stdout",
     "output_type": "stream",
     "text": [
      "tony thor\n"
     ]
    }
   ],
   "source": [
    "# sep\n",
    "print(\"tony\",\"thor\")"
   ]
  },
  {
   "cell_type": "code",
   "execution_count": 108,
   "id": "866e377d-38f7-4a7d-9b0b-5a7feab002fa",
   "metadata": {},
   "outputs": [
    {
     "name": "stdout",
     "output_type": "stream",
     "text": [
      "tony , thor\n",
      "New\n",
      "Line\n"
     ]
    }
   ],
   "source": [
    "print(\"tony\",\"thor\" ,sep=\" , \")\n",
    "print(\"New\",\"Line\" ,sep=\"\\n\")"
   ]
  },
  {
   "cell_type": "code",
   "execution_count": 126,
   "id": "eff259c8-e309-47ec-9bb8-382ff5f2a4a1",
   "metadata": {},
   "outputs": [
    {
     "name": "stdout",
     "output_type": "stream",
     "text": [
      "tony 32\n",
      "loki 1500\n"
     ]
    }
   ],
   "source": [
    "# changing the default separator\n",
    "print(\"tony\",32,  end =\" \")\n",
    "print(\"loki\",1500) "
   ]
  },
  {
   "cell_type": "code",
   "execution_count": null,
   "id": "0afa3444-c7ed-4dc7-b00f-22298c284a23",
   "metadata": {},
   "outputs": [],
   "source": [
    "# // - floor divison, the result is floored to the nearest smaller integer\n",
    "a =8\n",
    "b=6\n",
    "print(a/b)\n",
    "print(a//b) # // floor division\n",
    "c= -3\n",
    "d=2\n",
    "print(c//d)"
   ]
  },
  {
   "cell_type": "code",
   "execution_count": 147,
   "id": "c3b6b74c-cddf-467e-acf4-572381777b66",
   "metadata": {},
   "outputs": [],
   "source": [
    "# conditional operators in python\n",
    "# and\n",
    "# or\n",
    "# not"
   ]
  },
  {
   "cell_type": "code",
   "execution_count": 189,
   "id": "4395ae09-38ff-46f5-9c5f-f73a2f4d3902",
   "metadata": {},
   "outputs": [
    {
     "name": "stdout",
     "output_type": "stream",
     "text": [
      "140711979661848\n",
      "140711979663160\n"
     ]
    },
    {
     "data": {
      "text/plain": [
       "False"
      ]
     },
     "execution_count": 189,
     "metadata": {},
     "output_type": "execute_result"
    }
   ],
   "source": [
    "# special operators\n",
    "# in operator (membership operator)\n",
    "# is operator\n",
    "\n",
    "# in operator tells you if an object is part of other object or not\n",
    "\n",
    "name =\"john doe\"\n",
    "\"john\" in name\n",
    "\n",
    "# is operator tells you if both the object are at the same memory location?\n",
    "a = 4\n",
    "b= 4\n",
    "print(id(a))\n",
    "print(id(b))\n",
    "a is b"
   ]
  },
  {
   "cell_type": "code",
   "execution_count": 199,
   "id": "404aebaf-673a-4e84-ad1d-7f2bdcb4848a",
   "metadata": {},
   "outputs": [
    {
     "name": "stdout",
     "output_type": "stream",
     "text": [
      "1\n"
     ]
    }
   ],
   "source": [
    "print(0 or 1)\n"
   ]
  },
  {
   "cell_type": "code",
   "execution_count": 201,
   "id": "097102f1-9095-4b83-9f7e-71c36a8faa4d",
   "metadata": {},
   "outputs": [
    {
     "name": "stdout",
     "output_type": "stream",
     "text": [
      "<class 'float'>\n"
     ]
    }
   ],
   "source": [
    "print(type(6 / 3))"
   ]
  },
  {
   "cell_type": "code",
   "execution_count": 203,
   "id": "a7f85316-44cc-48fe-a81a-52f3baed066f",
   "metadata": {},
   "outputs": [
    {
     "name": "stdout",
     "output_type": "stream",
     "text": [
      "2.0\n"
     ]
    }
   ],
   "source": [
    "print(6 / 3)"
   ]
  },
  {
   "cell_type": "code",
   "execution_count": 210,
   "id": "4e823c7a-da73-4b50-9864-ef575183eb96",
   "metadata": {},
   "outputs": [
    {
     "name": "stdin",
     "output_type": "stream",
     "text": [
      " 32\n"
     ]
    },
    {
     "name": "stdout",
     "output_type": "stream",
     "text": [
      "you are eligible to vote\n"
     ]
    }
   ],
   "source": [
    "# control flow statement\n",
    "age = int(input())\n",
    "if age > 18:\n",
    "    print(\"you are eligible to vote\")\n",
    "\n",
    "else:\n",
    "    print(\"you are not eligible to vote\")\n",
    "\n",
    "\n"
   ]
  },
  {
   "cell_type": "code",
   "execution_count": 218,
   "id": "5fae5662-d4d9-4d3f-9bba-c66f683aa751",
   "metadata": {},
   "outputs": [
    {
     "name": "stdout",
     "output_type": "stream",
     "text": [
      "99\n"
     ]
    }
   ],
   "source": [
    "marks =[89,78,89,6,89,89,90,27,78,89,99]\n",
    "highest = marks[0]\n",
    "for i in marks:\n",
    "    if i>highest:\n",
    "        highest = i\n",
    "\n",
    "print(highest)"
   ]
  },
  {
   "cell_type": "code",
   "execution_count": 220,
   "id": "ca4155fc-af10-4d79-a48e-b199f44fa133",
   "metadata": {},
   "outputs": [
    {
     "data": {
      "text/plain": [
       "99"
      ]
     },
     "execution_count": 220,
     "metadata": {},
     "output_type": "execute_result"
    }
   ],
   "source": [
    "# using max()\n",
    "max(marks)\n"
   ]
  },
  {
   "cell_type": "code",
   "execution_count": 222,
   "id": "d3ef00c5-014e-4d71-9f56-fd920b53d52a",
   "metadata": {},
   "outputs": [
    {
     "data": {
      "text/plain": [
       "6"
      ]
     },
     "execution_count": 222,
     "metadata": {},
     "output_type": "execute_result"
    }
   ],
   "source": [
    "# find min mark using min()\n",
    "min(marks)"
   ]
  },
  {
   "cell_type": "code",
   "execution_count": 258,
   "id": "0076c095-4adf-41bf-b515-95e53b9d1a99",
   "metadata": {},
   "outputs": [
    {
     "name": "stdin",
     "output_type": "stream",
     "text": [
      " -8\n"
     ]
    },
    {
     "name": "stdout",
     "output_type": "stream",
     "text": [
      "Invalid Score\n"
     ]
    }
   ],
   "source": [
    "#challenge\n",
    "# grading system\n",
    "marks = int(input())\n",
    "\n",
    "if marks >=90 and marks <=100:\n",
    "    print(\"Grade A\")\n",
    "\n",
    "elif marks<=90 and marks>80:\n",
    "    print(\"Grade B\")\n",
    "\n",
    "elif marks <=80 and marks > 70:\n",
    "    print (\"Grade C\")\n",
    "\n",
    "elif marks <= 70 and marks > 60:\n",
    "    print (\"Grade D\")\n",
    "\n",
    "elif marks <= 60 and marks > 30:\n",
    "    print (\"Grade E\")\n",
    "\n",
    "\n",
    "\n",
    "elif marks <= 30 and marks >= 0:\n",
    "    print (\"Fail\")\n",
    "else :\n",
    "    print (\"Invalid Score\")"
   ]
  },
  {
   "cell_type": "code",
   "execution_count": 264,
   "id": "b07db641-9ef9-464d-80da-c08d9870b94f",
   "metadata": {},
   "outputs": [
    {
     "data": {
      "text/plain": [
       "True"
      ]
     },
     "execution_count": 264,
     "metadata": {},
     "output_type": "execute_result"
    }
   ],
   "source": [
    "4 ==4\n"
   ]
  },
  {
   "cell_type": "code",
   "execution_count": null,
   "id": "ffb6b884-5b49-402c-adcc-27544fe0a9fe",
   "metadata": {},
   "outputs": [],
   "source": [
    "# loop in python\n",
    "# for \n",
    "# while\n",
    "\n",
    "i = 1\n",
    "while i<=6 :\n",
    "    print(\"Hi this iteration no : \",i)\n",
    "    i+=1\n",
    "    "
   ]
  },
  {
   "cell_type": "code",
   "execution_count": 52,
   "id": "dc035c8e-8768-4cf8-97a7-a0aad3e1653c",
   "metadata": {},
   "outputs": [
    {
     "name": "stdout",
     "output_type": "stream",
     "text": [
      "1\n",
      "2\n",
      "3\n",
      "4\n",
      "5\n",
      "6\n",
      "7\n",
      "8\n",
      "9\n",
      "10\n"
     ]
    }
   ],
   "source": [
    "# pritn all numbers from 1 to 10 using loop\n",
    "\n",
    "# using while loop\n",
    "# count =1 \n",
    "# while count <=10:\n",
    "#     print (count) \n",
    "#     count +=1\n",
    "\n",
    "\n",
    "# using for loop\n",
    "\n",
    "for i in range(1,11):\n",
    "    print (i)\n",
    "\n",
    "# # in reverse using for loop\n",
    "# for i in range(10,1,-1): # range(start, stop, step)\n",
    "#     print (i)"
   ]
  },
  {
   "cell_type": "code",
   "execution_count": 70,
   "id": "b7d980cc-a52c-4243-b7ba-cfb45c489284",
   "metadata": {},
   "outputs": [
    {
     "name": "stdout",
     "output_type": "stream",
     "text": [
      "0 2 4 6 8 10 "
     ]
    }
   ],
   "source": [
    "# print even numbers in given range\n",
    "\n",
    "# using while loop\n",
    "# i = 0\n",
    "# while i<=10:\n",
    "#     if i % 2==0 :\n",
    "#         print(i, end=\" \")\n",
    "#     i+=1\n",
    "\n",
    "    \n",
    "\n",
    "# using for loop\n",
    "for i in range (0,11):\n",
    "    if i%2 == 0:\n",
    "        print(i ,end = \" \")"
   ]
  },
  {
   "cell_type": "code",
   "execution_count": 8,
   "id": "a98e7997-361b-4d80-892b-9f741bc48885",
   "metadata": {},
   "outputs": [
    {
     "name": "stdout",
     "output_type": "stream",
     "text": [
      "55\n"
     ]
    }
   ],
   "source": [
    "# print sum of numbers in given range\n",
    "\n",
    "# using while loop\n",
    "sum = 0\n",
    "i=0\n",
    "while i<=10:\n",
    "    sum+=i\n",
    "    i+=1\n",
    "    \n",
    "print(sum)\n",
    "\n",
    "# using for loop\n",
    "# sum= 0\n",
    "# for i in range(0,11):\n",
    "#     sum+=i\n",
    "# print(sum, end =\" \")\n"
   ]
  },
  {
   "cell_type": "code",
   "execution_count": 26,
   "id": "dddf1b76-a99a-4aac-bcbe-2ba5e9e42326",
   "metadata": {},
   "outputs": [
    {
     "name": "stdout",
     "output_type": "stream",
     "text": [
      "[0, 1, 2, 3, 4, 5, 6, 7, 8, 9]\n"
     ]
    },
    {
     "data": {
      "text/plain": [
       "[0, 1, 2, 3, 4, 5, 6, 7, 8, 9]"
      ]
     },
     "execution_count": 26,
     "metadata": {},
     "output_type": "execute_result"
    }
   ],
   "source": [
    "print(list(range(10)))\n",
    "list(range(10))"
   ]
  },
  {
   "cell_type": "code",
   "execution_count": 78,
   "id": "247514ea-e59c-4617-9e2e-35c378f1f60e",
   "metadata": {},
   "outputs": [
    {
     "name": "stdin",
     "output_type": "stream",
     "text": [
      " 78\n"
     ]
    },
    {
     "name": "stdout",
     "output_type": "stream",
     "text": [
      "78 x 1 = 78\n",
      "78 x 2 = 156\n",
      "78 x 3 = 234\n",
      "78 x 4 = 312\n",
      "78 x 5 = 390\n",
      "78 x 6 = 468\n",
      "78 x 7 = 546\n",
      "78 x 8 = 624\n",
      "78 x 9 = 702\n",
      "78 x 10 = 780\n"
     ]
    }
   ],
   "source": [
    "# Iterator, Iterable and Iteration\n",
    "\n",
    "# print multiplication table of 5\n",
    "\n",
    "# for i in list(range(1,11)):\n",
    "#     # print(i*5)\n",
    "#     print(f\"5 x {i} = {i * 5}\")\n",
    "\n",
    "\n",
    "# take input n from the user and give table of n \n",
    "n = int(input())\n",
    "\n",
    "for i in range(1,11):\n",
    "    # print (i * n)\n",
    "    print (f\"{n} x {i} = {i * n}\")\n",
    "    \n"
   ]
  },
  {
   "cell_type": "code",
   "execution_count": 138,
   "id": "568f7c60-d8ea-44ae-bdd7-c57d0c99d65c",
   "metadata": {},
   "outputs": [
    {
     "name": "stdin",
     "output_type": "stream",
     "text": [
      " 6\n"
     ]
    },
    {
     "name": "stdout",
     "output_type": "stream",
     "text": [
      "# # # # # # \n",
      "# # # # # # \n",
      "# # # # # # \n",
      "# # # # # # \n",
      "# # # # # # \n",
      "# # # # # # \n"
     ]
    }
   ],
   "source": [
    "# print the pattern 1\n",
    "n = int(input())\n",
    "\n",
    "for i in range(1,n+1):\n",
    "    for j in range(1,n+1):\n",
    "        print(\"#\", end = \" \")\n",
    "    print(\"\")\n"
   ]
  },
  {
   "cell_type": "markdown",
   "id": "a750c5fd-7af8-4749-80ef-4b1189b3313c",
   "metadata": {},
   "source": [
    "##### "
   ]
  },
  {
   "cell_type": "code",
   "execution_count": 170,
   "id": "6abd945c-dd43-4063-b12a-b4cd2bfb509c",
   "metadata": {},
   "outputs": [
    {
     "name": "stdin",
     "output_type": "stream",
     "text": [
      " 7\n"
     ]
    },
    {
     "name": "stdout",
     "output_type": "stream",
     "text": [
      "# \n",
      "# # \n",
      "# # # \n",
      "# # # # \n",
      "# # # # # \n",
      "# # # # # # \n",
      "# # # # # # # \n"
     ]
    }
   ],
   "source": [
    "# print pattern 2\n",
    "\n",
    "n = int(input())\n",
    "\n",
    "for i in range(n):\n",
    "    for j in range(i+1):\n",
    "        print(\"#\",end=\" \")\n",
    "    print(\"\")"
   ]
  },
  {
   "cell_type": "raw",
   "id": "957bb8e1-46f8-41ac-9267-4f85daa39173",
   "metadata": {},
   "source": [
    "# Break , Continue and Pass\n",
    "# These statements are used to alter the flow of a program\n",
    "# Break: Breaks teh flow of a program once the conditon is hit\n",
    "# Continue: It skips the particular iteration\n",
    "# Pass: To avoid syntax error. Mainly used as the placeholder for the future code, it does nothing and let the code run forward.\n"
   ]
  },
  {
   "cell_type": "code",
   "execution_count": 258,
   "id": "7165bf80-b334-4238-ad5b-ec47aceb8320",
   "metadata": {},
   "outputs": [
    {
     "name": "stdin",
     "output_type": "stream",
     "text": [
      " 5\n"
     ]
    },
    {
     "name": "stdout",
     "output_type": "stream",
     "text": [
      "    *\n",
      "   ***\n",
      "  *****\n",
      " *******\n",
      "*********\n"
     ]
    }
   ],
   "source": [
    "\n",
    "n = int(input())\n",
    "# for i in range(n+1):\n",
    "#     for j in range(n-i):\n",
    "#         print(\" \" ,end= \"\")\n",
    "\n",
    "#     for k in range(i):\n",
    "#         print(\"* \", end=\"\")\n",
    "#     print(\"\")\n",
    "\n",
    "# for i in range(n+1):\n",
    "#     # print spaces\n",
    "#     for j in range(n-i):\n",
    "#         print(\" \", end=\"\")\n",
    "#     for k in range(i):\n",
    "#         print(\"* \",end=\"\")\n",
    "#     print(\"\")\n",
    "\n",
    "def star_pattern(n):\n",
    "    for i in range(n):\n",
    "        for j in range(n-i-1):\n",
    "            print(\" \", end=\"\")\n",
    "        for k in range(2*i + 1):\n",
    "            print(\"*\",end=\"\")\n",
    "        print(\"\")\n",
    "    \n",
    "star_pattern(5)\n"
   ]
  },
  {
   "cell_type": "code",
   "execution_count": 264,
   "id": "48a3e59e-ad09-4331-b5c0-91395ad1f240",
   "metadata": {},
   "outputs": [
    {
     "name": "stdout",
     "output_type": "stream",
     "text": [
      "610\n"
     ]
    }
   ],
   "source": [
    "for x in range(11):\n",
    "       if x == 6:\n",
    "           print(x,end=\"\")\n",
    "print(x)\n"
   ]
  },
  {
   "cell_type": "code",
   "execution_count": 319,
   "id": "c1fe8525-fff4-4df3-831f-9c9494dac2bb",
   "metadata": {},
   "outputs": [
    {
     "data": {
      "text/plain": [
       "'😀'"
      ]
     },
     "execution_count": 319,
     "metadata": {},
     "output_type": "execute_result"
    }
   ],
   "source": [
    "#strings\n",
    "\n",
    "# ord() and chr()\n",
    "# ord(),\"ordinal\", function takes a single character (a string of length 1) as an argument and returns its integer Unicode code point (ASCII value for standard ASCII characters)\n",
    "# chr() function takes an integer (Unicode code point) as an argument and returns the corresponding character\n",
    "ord(\"A\")\n",
    "chr(2325)\n",
    "chr(128512)\n",
    "\n"
   ]
  },
  {
   "cell_type": "code",
   "execution_count": 202,
   "id": "dd90cbc5-4c8b-42f6-a759-e6a8c081e0db",
   "metadata": {},
   "outputs": [
    {
     "name": "stdout",
     "output_type": "stream",
     "text": [
      "John cena\n",
      "john cena\n",
      "1\n",
      "b'\\xff\\xfej\\x00o\\x00h\\x00n\\x00 \\x00C\\x00e\\x00n\\x00a\\x00'\n",
      "False\n",
      "True\n",
      "-1\n",
      "8\n",
      "False\n",
      "False\n",
      "True\n",
      "jai Cena\n",
      "-1\n",
      "john Cena\n",
      "('', 'j', 'ohn Cena')\n",
      "['joh', ' Ce', 'a']\n",
      "jhiohihhinhi hiChiehinhia\n",
      "a\n",
      "9\n",
      "john C\n",
      "john Cena\n",
      "onC\n",
      "aneC nhoj\n",
      "a\n"
     ]
    }
   ],
   "source": [
    "# indexing in string\n",
    "\n",
    "name = \"john Cena\"\n",
    "print(name.capitalize())\n",
    "print(name.casefold()) # coverts string into lower case\n",
    "print(name.count(\"j\")) # count the number of time a specified value occures\n",
    "print(name.encode('utf-16')) # Returns an encoded version of the string\n",
    "print(name.endswith('c')) # Returns true if the string ends with the specified value\n",
    "print(name.endswith('a')) \n",
    "print(name.find('ar')) # all that but return -1 if not found\n",
    "print(name.index(\"a\")) # all that but raises ValueError if not found , ie. \"substring not found\"\n",
    "print(name.isalnum()) # return true if all characters in the string are alphanumeric\n",
    "print(name.isalpha()) # return true if all characters in the string are in the alphabet\n",
    "print(name.isascii()) # return true if all characters in the string are in the alphabet\n",
    "\n",
    "print(name.replace(\"john\", \"jai\"))\n",
    "print(name.rfind(\"a\",0,6)) # find the last occurance of the specied value, ie. string.rfind(value, start, end) . If start and end is not specified it find the occurence in whole string from start to bottom\n",
    "print(name.strip()) # strip method removes any leading and trailing whitespaces\n",
    "\n",
    "print(name.rpartition(\"j\")) #Returns a tuple where the string is parted into three parts\n",
    "print(name.rsplit(\"n\")) #Splits the string at the specified separator, and returns a list\n",
    "print(\"hi\".join(name)) #Splits the string at the specified separator, and returns a list\n",
    "print(name[-1]) # accessing the characters in string\n",
    "print(len(name)) # length of the string\n",
    "print(name[0:6]) # slicing of string\n",
    "print(name[0:len(name)]) # slicing of string (taking till last index\n",
    "print(name[1:6:2]) # steps(jump), start, end, jump(step)\n",
    "print(name[::-1]) # steps(jump), start, end, jump(step)\n",
    "print(name[::-len(name)]) # steps(jump), start, end, jump(step)\n",
    "\n",
    "\n",
    "\n"
   ]
  },
  {
   "cell_type": "code",
   "execution_count": 210,
   "id": "e7977f4d-bd8e-4af9-93d7-ba11a257a1d6",
   "metadata": {},
   "outputs": [
    {
     "name": "stdin",
     "output_type": "stream",
     "text": [
      " sam\n",
      " 89\n"
     ]
    },
    {
     "name": "stdout",
     "output_type": "stream",
     "text": [
      "Hello, My name is sam and I am 89 years old.!\n"
     ]
    }
   ],
   "source": [
    "# string formatting\n",
    "name = input()\n",
    "age=input()\n",
    "print(\"Hello, My name is\", name, \"and I am\", age, \"years old.!\")"
   ]
  },
  {
   "cell_type": "code",
   "execution_count": 234,
   "id": "71861b51-7b0e-41f3-b672-0d4cda688781",
   "metadata": {},
   "outputs": [
    {
     "name": "stdin",
     "output_type": "stream",
     "text": [
      " John Doe\n",
      " 45\n"
     ]
    },
    {
     "name": "stdout",
     "output_type": "stream",
     "text": [
      "Hey my name is John Doe and I am 45 years old\n"
     ]
    }
   ],
   "source": [
    "name = input()\n",
    "age=input()\n",
    "print(\"Hey my name is {} and I am {} years old\".format(name,age))"
   ]
  },
  {
   "cell_type": "code",
   "execution_count": 232,
   "id": "973878c1-d0f4-4bcc-955c-6e90827d2223",
   "metadata": {},
   "outputs": [
    {
     "name": "stdin",
     "output_type": "stream",
     "text": [
      " John Cena\n",
      " 45\n"
     ]
    },
    {
     "name": "stdout",
     "output_type": "stream",
     "text": [
      "Hey my name is John Cena and I am 45 years old\n"
     ]
    }
   ],
   "source": [
    "name = input()\n",
    "age=input()\n",
    "print(f\"Hey my name is {name} and I am {age} years old\")"
   ]
  },
  {
   "cell_type": "code",
   "execution_count": 262,
   "id": "e4fd3337-5f27-4be1-8316-cd89ad18e1c9",
   "metadata": {},
   "outputs": [
    {
     "name": "stdout",
     "output_type": "stream",
     "text": [
      "PeterParkerKumar\n",
      "PeterParkerKumarPeterParkerKumarPeterParkerKumar\n"
     ]
    }
   ],
   "source": [
    "# string concatenation (adding two strings)\n",
    "first_name = \"Peter\"\n",
    "middle_name = \"Parker\"\n",
    "last_name = \"Kumar\"\n",
    "print(first_name + middle_name + last_name)\n",
    "print((first_name + middle_name + last_name) * 3) # can only multiply string and integer"
   ]
  },
  {
   "cell_type": "code",
   "execution_count": 316,
   "id": "8946573e-c493-4da5-bf3e-ce4fe2e722f0",
   "metadata": {},
   "outputs": [
    {
     "name": "stdin",
     "output_type": "stream",
     "text": [
      " my name is khan\n"
     ]
    },
    {
     "name": "stdout",
     "output_type": "stream",
     "text": [
      "['a', 'e', 'i', 'a']\n"
     ]
    }
   ],
   "source": [
    "#challenge\n",
    "# print all vowels of a given string\n",
    "# text= \"The quick brown fox jumps over the lazy dog\"\n",
    "text=input()\n",
    "vowels=[]\n",
    "\n",
    "for i in text:\n",
    "    if i== \"a\" or i=='e' or i=='i'or i=='o'or i=='u' or i== \"A\" or i=='E' or i=='I'or i=='O'or i=='U':\n",
    "       vowels.append(i)\n",
    "\n",
    "if vowels:\n",
    "    print(vowels)\n",
    "\n",
    "else: \n",
    "    print(f'No vowels in \"{text}\"')\n",
    "\n",
    "\n",
    "\n",
    "    \n",
    "    # if (vowel == text.find('a')||vowel == text.find('e')||vowel text.find(== 'o')||vowel == text.find('u')||vowel == text.find('i'):\n",
    "    #     print(vowel);\n",
    "    # else :\n",
    "    #     print(\"\")\n",
    "        "
   ]
  },
  {
   "cell_type": "code",
   "execution_count": 21,
   "id": "bea91c83-fb30-4cb8-afd4-7bbb1e9cea0a",
   "metadata": {},
   "outputs": [
    {
     "name": "stdin",
     "output_type": "stream",
     "text": [
      " rotator\n"
     ]
    },
    {
     "name": "stdout",
     "output_type": "stream",
     "text": [
      "yes! 'rotator' is palindrome. i.e. 'rotator' = 'rotator'\n"
     ]
    }
   ],
   "source": [
    "#challenge \n",
    "# Find if a string is palindrome (sequence that reads the same backwards as forwards)\n",
    "\n",
    "str = input()\n",
    "\n",
    "if str == str[::-1]:\n",
    "    print(f\"yes! '{str}' is palindrome. i.e. '{str}' = '{str[::-1]}'\")\n",
    "else:\n",
    "    print(f\"NO!, '{str}' is not a palindrome.\")\n"
   ]
  },
  {
   "cell_type": "code",
   "execution_count": 37,
   "id": "28c4938d-0ee1-49ed-9814-00bb202e7404",
   "metadata": {},
   "outputs": [
    {
     "name": "stdout",
     "output_type": "stream",
     "text": [
      "20\n"
     ]
    }
   ],
   "source": [
    "# Challenge - Length of unique words\n",
    "# Given two sentences, write a program to return the sum of the total number of unique words from each sentence.\n",
    "\n",
    "\n",
    "def set_operation(sent1, sent2):\n",
    "    ''' \n",
    "    input: sent1, sent2 - two sentences taken as inputs\n",
    "    output: return the sum of the length of unique words.\n",
    "    '''\n",
    "    # split the setntences and keep them in set\n",
    "    unique_words_in_sent1 = set(sent1.split()) # set does not keep duplicate items. ie. automatically filter unique words\n",
    "    unique_words_in_sent2 = set(sent2.split())\n",
    "\n",
    "    total_unique_words = len(unique_words_in_sent1) + len(unique_words_in_sent2)\n",
    "\n",
    "    return total_unique_words\n",
    "\n",
    "# Sample input\n",
    "sent1 = \"in data analysis we use data and process it further to create better interpreted data\"\n",
    "sent2 = \"more and more data will be passively collected\"\n",
    "\n",
    "# Function call\n",
    "print(set_operation(sent1, sent2))  # Output should be 20\n",
    "\n"
   ]
  },
  {
   "cell_type": "code",
   "execution_count": 65,
   "id": "e770c4ff-b207-471c-92f3-c0dfeee62492",
   "metadata": {},
   "outputs": [
    {
     "name": "stdout",
     "output_type": "stream",
     "text": [
      "<class 'list'>\n",
      "<class 'list'>\n",
      "[2, 2, 34, 4, 'g']\n",
      "1764683175232\n",
      "140712098347544\n",
      "[2, 2, 34, 566, 'g']\n",
      "1764683175232\n",
      "1764677611856\n",
      "[2, 2, 34, 4, 'g']\n",
      "2\n",
      "2\n",
      "34\n",
      "566\n",
      "g\n"
     ]
    }
   ],
   "source": [
    "# Data Structure in Python\n",
    "# a data structure is a specialized format for organizing, processing, retrieving and storing data.\n",
    "# 1. Lists\n",
    "\"\"\"\n",
    "a. Ordered collection of data\n",
    "b. Lists are mutable type of DataStructure\n",
    "c. It can contain muliple types of Data\n",
    "d. Lists are changeable (Mutable)\n",
    "e. Lists are iterable\n",
    "\"\"\"\n",
    "# creating a list \n",
    "'''\n",
    "i>  l = []\n",
    "ii> l = list()\n",
    "'''\n",
    "l = []\n",
    "ls = list()\n",
    "print(type(l))\n",
    "print(type(ls))\n",
    "l2 = [2,2,34,4,\"g\"]\n",
    "l3 = list((2,2,34,4,\"g\"))\n",
    "print(l2)\n",
    "print(id(l2)) # address of the list\n",
    "print(id(l2[3])) # addrees of element at 3rd index before changing the element\n",
    "l2[3]=566 # mutable\n",
    "print(l2)\n",
    "print(id(l2)) # address of the list doesnot change when one element is mutated but that mutated element's address may change\n",
    "print(id(l2[3]))# addrees of element at 3rd index after changing the element\n",
    "print(l3)\n",
    "\n",
    "## lists are iteratable \n",
    "for i in l2:\n",
    "    print(i)"
   ]
  },
  {
   "cell_type": "code",
   "execution_count": 97,
   "id": "5d3de9f7-2654-4364-8570-70ed452843d9",
   "metadata": {},
   "outputs": [
    {
     "name": "stdout",
     "output_type": "stream",
     "text": [
      "[2, 12, 34]\n",
      "[2, 12, 34, 4, 89, 90]\n"
     ]
    }
   ],
   "source": [
    "#List slicing\n",
    "ls = [2,12,34,4,89,90]\n",
    "print(ls[0:3]) # start index is included but end index is excluded\n",
    "print(ls[0:len(ls)])\n",
    "\n"
   ]
  },
  {
   "cell_type": "code",
   "execution_count": 183,
   "id": "d7980c89-0a7f-4afc-af9d-428752c51943",
   "metadata": {},
   "outputs": [
    {
     "name": "stdout",
     "output_type": "stream",
     "text": [
      "2\n",
      "0\n",
      "2\n",
      "2\n",
      "[56, 67, 89, 98, 79, 89]\n",
      "89\n",
      "[56, 67, 89, 98, 79]\n",
      "None\n",
      "[56, 67, 89, 79]\n",
      "None\n",
      "None\n",
      "None\n",
      "[789, 56, 67, 79, 89, 999]\n",
      "None\n",
      "[789, 56, 67, 79, 89, 999, [85, 45, 76]]\n"
     ]
    }
   ],
   "source": [
    "# list operations\n",
    "# count\n",
    "# index\n",
    "# pop\n",
    "# remove\n",
    "# sort\n",
    "# insert\n",
    "# append\n",
    "# extend\n",
    "score = [56,67,89,98,79,89]\n",
    "print(score.count(89)) # count the number of times the arg is in the list\n",
    "print(score.count(100)) # return 0 if not found\n",
    "print(score.index(89)) # return first index found and retrun valueError if not found\n",
    "print(score.index(89)) # return first index found and retrun valueError if not found\n",
    "print(score)\n",
    "print(score.pop()) # remove one element from last index\n",
    "print(score)\n",
    "print(score.remove(98))\n",
    "print(score)\n",
    "print(score.sort())\n",
    "print(score.insert(0,789)) # insert new element inplace of selected index\n",
    "print(score.append(999))\n",
    "print(score)\n",
    "newScore = [85,45,76]\n",
    "print(score.append(newScore))\n",
    "print(score)\n",
    "\n",
    "# extend\n"
   ]
  },
  {
   "cell_type": "code",
   "execution_count": 201,
   "id": "c6fa135a-8998-4534-b20b-5f293c47fe08",
   "metadata": {},
   "outputs": [
    {
     "name": "stdout",
     "output_type": "stream",
     "text": [
      "['hi', 78, 'jim', 90]\n"
     ]
    }
   ],
   "source": [
    "# Hetrogenous Lists - list that contains items of two or more data types\n",
    "ls = [\"hi\",78,\"jim\",90]\n",
    "print(ls)"
   ]
  },
  {
   "cell_type": "code",
   "execution_count": 242,
   "id": "8d1b3108-c5a7-4bc5-a4d1-b3d4b25d8b31",
   "metadata": {},
   "outputs": [
    {
     "name": "stdout",
     "output_type": "stream",
     "text": [
      "[45, 65, 23, 41, 25, 13, 67, 99, 12]\n",
      "[[45, 65, 23], [41, 25, 13], [67, 99, 12]]\n",
      "[41, 25, 13]\n",
      "25\n"
     ]
    }
   ],
   "source": [
    "# 2D list-  list inside list\n",
    "ls1 = [45,65,23]\n",
    "ls2 = [41,25,13]\n",
    "ls3 = [67,99,12]\n",
    "# ls1.append(ls2)\n",
    "\n",
    "# print(ls1)\n",
    "# ls1.extend(ls2)\n",
    "# print(ls1)\n",
    "\n",
    "ls123=ls1 + ls2 +ls3\n",
    "print(ls123)\n",
    "l=[ls1,ls2,ls3]\n",
    "print(l)\n",
    "print(l[1])\n",
    "print(l[1][1])"
   ]
  },
  {
   "cell_type": "code",
   "execution_count": 292,
   "id": "d9dffecb-4745-4e66-a56b-d6b90aea1aee",
   "metadata": {},
   "outputs": [
    {
     "name": "stdout",
     "output_type": "stream",
     "text": [
      "[[45, 65, 23], [41, 25, 13], [67, 99, 12]]\n",
      "iterate over each list in the 2d list\n",
      "[45, 65, 23]\n",
      "[41, 25, 13]\n",
      "[67, 99, 12]\n",
      "iterate over each item in the 2d list\n",
      "45\n",
      "65\n",
      "23\n",
      "41\n",
      "25\n",
      "13\n",
      "67\n",
      "99\n",
      "12\n",
      "iterate over l[0]\n",
      "45\n",
      "65\n",
      "23\n"
     ]
    }
   ],
   "source": [
    "# iteration on 2D list\n",
    "print(l)\n",
    "print(\"iterate over each list in the 2d list\")\n",
    "\n",
    "for i in l:\n",
    "    print(i)\n",
    "\n",
    "print(\"iterate over each item in the 2d list\")\n",
    "\n",
    "for i in l:\n",
    "    for j in i:\n",
    "        print(j)\n",
    "\n",
    "print(\"iterate over l[0]\")\n",
    "for i in l[0]:\n",
    "    print(i)"
   ]
  },
  {
   "cell_type": "code",
   "execution_count": 355,
   "id": "7730a6ba-e3be-414e-9d8e-2a3bf67863e8",
   "metadata": {},
   "outputs": [
    {
     "name": "stdout",
     "output_type": "stream",
     "text": [
      "[0, 1, 2, 3, 4, 5, 6, 7, 8, 9, 10, 11, 12, 13, 14, 15, 16, 17, 18, 19]\n",
      "[0, 1, 2, 3, 4, 5, 6, 7, 8, 9, 10, 11, 12, 13, 14, 15, 16, 17, 18, 19, 20, 21, 22]\n",
      "[0, 1, 4, 9, 16, 25, 36, 49, 64, 81, 100, 121, 144, 169, 196, 225, 256, 289, 324, 361, 400, 441, 484]\n"
     ]
    }
   ],
   "source": [
    "# List comprehension\n",
    "\n",
    "# for i in range(10):\n",
    "#     print(i, end=\", \\n__\\n\")\n",
    "\n",
    "# traditional way\n",
    "ls = []\n",
    "\n",
    "for i in range(20):\n",
    "    ls.append(i)\n",
    "\n",
    "print(ls)\n",
    "\n",
    "# list comprehension\n",
    "ls = [i for i in range(23)]\n",
    "print(ls)\n",
    "\n",
    "ls = [i**2 for i in range(23)]\n",
    "print(ls)"
   ]
  },
  {
   "cell_type": "code",
   "execution_count": 40,
   "id": "66a6a499-ba0b-4619-8b65-f87bc44c4aa2",
   "metadata": {},
   "outputs": [
    {
     "name": "stdout",
     "output_type": "stream",
     "text": [
      "62\n"
     ]
    }
   ],
   "source": [
    "# Challange\n",
    "'''\n",
    "* Given a list of population sensus done by Gov. of India. You need to Find the total population.\n",
    "* Each element in the list represents total members in a family\n",
    "* l = [4,6,5,8,9,3,2,4,5,4,3,2,3,4]\n",
    "'''\n",
    "\n",
    "ls = [4,6,5,8,9,3,2,4,5,4,3,2,3,4]\n",
    "total_population = 0\n",
    "\n",
    "\n",
    "for i in ls:\n",
    "    # total_population = total_population + i\n",
    "    total_population += i\n",
    "    \n",
    "print(total_population)\n",
    "           "
   ]
  },
  {
   "cell_type": "code",
   "execution_count": 55,
   "id": "4c8f31f7-af9d-46f4-8ddd-c7326085fc43",
   "metadata": {},
   "outputs": [],
   "source": [
    "class Solution:\n",
    "    # @param A : list of integers\n",
    "    # @return an integer\n",
    "    def solve(self, A):\n",
    "        largest_no = 0\n",
    "        second_largets_int = 0\n",
    "        for i in A:\n",
    "            if largest_no >= i:\n",
    "                largest_no=i\n",
    "        print (largest_no)\n",
    "\n",
    "\n",
    "            \n"
   ]
  },
  {
   "cell_type": "code",
   "execution_count": 85,
   "id": "51503962-b2f8-4235-991d-e43d4c76f595",
   "metadata": {},
   "outputs": [
    {
     "name": "stdout",
     "output_type": "stream",
     "text": [
      "['Jadeja', 'Rahul', 'Rohit', 'Dhoni', 'Virat']\n"
     ]
    }
   ],
   "source": [
    "players = ['Jadeja','Rahul','Rohit']\n",
    "players+=['Dhoni', 'Virat']\n",
    "print(players)\n"
   ]
  },
  {
   "cell_type": "code",
   "execution_count": 95,
   "id": "3610363b-2f42-4d7d-8d60-ca770904a217",
   "metadata": {},
   "outputs": [
    {
     "name": "stdout",
     "output_type": "stream",
     "text": [
      "<class 'tuple'>\n"
     ]
    }
   ],
   "source": [
    "tp= ()\n",
    "print(type(tp))"
   ]
  },
  {
   "cell_type": "code",
   "execution_count": 33,
   "id": "310476b1-68fa-4890-a850-64639aaf4b1c",
   "metadata": {},
   "outputs": [
    {
     "name": "stdout",
     "output_type": "stream",
     "text": [
      "('4', '5', ' ', 'j', 'a', 'i', ' ', 's', 'h', 'r', 'e', 'e', ' ', 'r', 'a', 'm', ' ')\n",
      "list['45 jai shree ram ', 3]\n"
     ]
    }
   ],
   "source": [
    "tp = tuple(\"45 jai shree ram \")\n",
    "ls = list[\"45 jai shree ram \",3]\n",
    "print(tp)\n",
    "print(ls)\n"
   ]
  },
  {
   "cell_type": "code",
   "execution_count": 159,
   "id": "65afdc42-f84d-406b-9b6d-61a81ff29006",
   "metadata": {},
   "outputs": [
    {
     "name": "stdout",
     "output_type": "stream",
     "text": [
      "17\n"
     ]
    }
   ],
   "source": [
    "print(len(tp))\n"
   ]
  },
  {
   "cell_type": "code",
   "execution_count": 287,
   "id": "f4960af9-8bc0-442b-a3e7-6af7b5fcb9e5",
   "metadata": {},
   "outputs": [
    {
     "name": "stdout",
     "output_type": "stream",
     "text": [
      "6\n",
      "65 6 79\n",
      "(94, 32, 34, 324, 45, 4)\n"
     ]
    }
   ],
   "source": [
    "# tuple unpacking\n",
    "a,b,c = 65,6,79\n",
    "print(b)\n",
    "print(a,b,c)\n",
    "\n",
    "tp = (94,32,34,324,45,4)\n",
    "a,b,c,d,e,f =tp # unpacking of tuple\n",
    "print(tp)"
   ]
  },
  {
   "cell_type": "code",
   "execution_count": 289,
   "id": "f7e4e1e1-b197-4b67-a12b-58475a05bee0",
   "metadata": {
    "scrolled": true
   },
   "outputs": [
    {
     "name": "stdout",
     "output_type": "stream",
     "text": [
      "23\n",
      "([4, 54, 73, 81], 'hi', 'hello')\n",
      "[4, 54, 73, 81]\n",
      "54\n",
      "([4, 54, 8888888, 81], 'hi', 'hello')\n"
     ]
    }
   ],
   "source": [
    "# Mutatbility of tuple\n",
    "# tuples are unmutable objects\n",
    "\n",
    "tp = (34,34,34,34,4,23,89,63,76)\n",
    "print(tp[5])\n",
    "# tp[5]=9 #error , tuple does not support item assignment\n",
    "tp2=([4,54,73,81],\"hi\",\"hello\")\n",
    "print(tp2)\n",
    "print(tp2[0])\n",
    "print(tp2[0][1])\n",
    "tp2[0][2]=8888888 #mutated list inside title\n",
    "print(tp2)\n",
    "ls=[34,5,5]"
   ]
  },
  {
   "cell_type": "code",
   "execution_count": 98,
   "id": "d8263297-fcc1-4034-b3a5-70aa74c85640",
   "metadata": {},
   "outputs": [
    {
     "name": "stdout",
     "output_type": "stream",
     "text": [
      "4\n",
      "0\n",
      "____ \n",
      "\n",
      "34\n",
      "34\n",
      "34\n",
      "34\n",
      "4\n",
      "23\n",
      "89\n",
      "63\n",
      "76\n",
      "(34, 34, 34, 34, 4, 23, 89, 63, 76, [4, 54, 8888888, 81], 'hi', 'hello')\n",
      "(34, 34, 34, 34, 4, 23, 89, 63, 76, 34, 34, 34, 34, 4, 23, 89, 63, 76)\n",
      "<class 'list'>\n",
      "[34, 34, 34, 34, 4, 23, 89, 63, 76, [4, 54, 8888888, 81], 'hi', 'hello']\n",
      "<class 'tuple'>\n",
      "(34, 34, 34, 34, 4, 23, 89, 63, 76, [4, 54, 8888888, 81], 'hi', 'hello')\n"
     ]
    }
   ],
   "source": [
    "# Tuple operations\n",
    "print(tp.count(34))  # count methods count the number of time a argm makes appearance in the tuple\n",
    "print(tp.index(34))  # tells the index of found arg (first appearance)\n",
    "\n",
    "print(\"____ \\n\")\n",
    "# Tuples are iteratable \n",
    "for i in tp:\n",
    "    print(i)\n",
    "\n",
    "# concatenation\n",
    "tp3 = tp + tp2\n",
    "print(tp3)\n",
    "print(tp*2)\n",
    "\n",
    "# tuple to list and list to tuple\n",
    "lst= list(tp3)\n",
    "print(type(lst))\n",
    "print(lst)\n",
    "tpl = tuple(lst)\n",
    "print(type(tpl))\n",
    "print(tpl)"
   ]
  },
  {
   "cell_type": "code",
   "execution_count": 228,
   "id": "fccd7529-d9e1-43a5-8cbc-864e1b43bf26",
   "metadata": {},
   "outputs": [
    {
     "name": "stdout",
     "output_type": "stream",
     "text": [
      "<class 'dict'>\n",
      "<class 'dict'>\n",
      "<class 'dict'>\n",
      "{'apple': 230, 'orange': 140, 'mango': 80, 'grapes': 100}\n"
     ]
    }
   ],
   "source": [
    "# Dictionary\n",
    "'''\n",
    "- Dictionary has key value pair form of data\n",
    "- Dictionaries are ordered (pytho 3.7 and above version)\n",
    "- Does not support indexing\n",
    "- Data can be accessed using key\n",
    "'''\n",
    "# creating a dictionary\n",
    "\n",
    "# creating empty dictionary\n",
    "d = {}\n",
    "print(type(d))\n",
    "\n",
    "ds = dict()\n",
    "print(type(ds))\n",
    "\n",
    "# creating non-empty dictionary\n",
    "\n",
    "fruits = {\n",
    "    'apple': 230,\n",
    "    'orange': 140,\n",
    "    'mango': 80,\n",
    "    'grapes': 100\n",
    "}\n",
    "\n",
    "print(type(fruits))\n",
    "print(fruits)"
   ]
  },
  {
   "cell_type": "code",
   "execution_count": 230,
   "id": "0b473b41-a0ea-46fa-b590-d0e2906548a1",
   "metadata": {},
   "outputs": [
    {
     "name": "stdout",
     "output_type": "stream",
     "text": [
      "{'apple': 230, 'orange': 140, 'mango': 80, 'grapes': 100}\n",
      "4\n"
     ]
    }
   ],
   "source": [
    "name =['apple', 'orange', 'mango','grapes']\n",
    "prices = [230,140,80,100]\n",
    "fruits2 = dict(zip(name,prices))\n",
    "print(fruits2)\n",
    "print(len(fruits2))"
   ]
  },
  {
   "cell_type": "code",
   "execution_count": 232,
   "id": "bd5ff3f8-3c25-45d6-91dc-f7331b32a149",
   "metadata": {},
   "outputs": [
    {
     "name": "stdout",
     "output_type": "stream",
     "text": [
      "230\n",
      "80\n",
      "140\n",
      "None\n",
      "Not Available\n",
      "100\n"
     ]
    }
   ],
   "source": [
    "# accessing data in Dictionary\n",
    "# using key\n",
    "print(fruits[\"apple\"]) # access value using key, and if not found, gives keyError\n",
    "print(fruits[\"mango\"])\n",
    "\n",
    "# using get method : to avoid error\n",
    "print(fruits.get(\"orange\"))\n",
    "print(fruits.get(\"guava\")) # nothing but no error\n",
    "print(fruits.get(\"guava\", \"Not Available\")) # second arg incase of key being not available\n",
    "print(fruits.get(\"grapes\", -1)) # second arg incase of key being not available\n"
   ]
  },
  {
   "cell_type": "code",
   "execution_count": 234,
   "id": "5b7826e0-7c0e-4194-be00-e7863cd4cba8",
   "metadata": {},
   "outputs": [
    {
     "name": "stdout",
     "output_type": "stream",
     "text": [
      "{'apple': 230, 'orange': 140, 'mango': 80, 'grapes': 100}\n",
      "{'apple': 489, 'orange': 140, 'mango': 80, 'grapes': 100}\n",
      "{'apple': 489, 'orange': 140, 'mango': {'small': 60, 'large': 90}, 'grapes': 100}\n",
      "{'apple': 489, 'orange': 140, 'mango': {'small': 60, 'large': 90}, 'grapes': 100, 'guava': 45}\n"
     ]
    }
   ],
   "source": [
    "# Updating a Dictionary\n",
    "# using key\n",
    "print(fruits)\n",
    "fruits['apple']=489\n",
    "print(fruits)\n",
    "fruits['mango']={\"small\" : 60, \"large\" : 90}\n",
    "print(fruits)\n",
    "\n",
    "# update with new value\n",
    "\n",
    "fruits[\"guava\"] = 45 # to add new value, add key with new value at once\n",
    "print(fruits)\n"
   ]
  },
  {
   "cell_type": "code",
   "execution_count": 236,
   "id": "f6d6ca80-a1ad-44a7-9b7f-6b73b36d18c3",
   "metadata": {},
   "outputs": [
    {
     "name": "stdout",
     "output_type": "stream",
     "text": [
      "{'apple': 489, 'orange': 140, 'mango': {'small': 60, 'large': 90}, 'grapes': 100, 'guava': 45, 'tomato': 35, 'strawberry': 120, 'banana': 30}\n"
     ]
    }
   ],
   "source": [
    "# update with multiple values\n",
    "newFruits = {\"tomato\" : 35, \"strawberry\":120,\"banana\":30}\n",
    "fruits.update(newFruits)\n",
    "print(fruits)\n"
   ]
  },
  {
   "cell_type": "code",
   "execution_count": 238,
   "id": "9e1f887a-847c-4fb6-b4c2-fb028eae1669",
   "metadata": {},
   "outputs": [
    {
     "name": "stdout",
     "output_type": "stream",
     "text": [
      "{'apple': 489, 'orange': 140, 'mango': {'small': 60, 'large': 90}, 'grapes': 100, 'guava': 45, 'tomato': 35, 'strawberry': 120, 'banana': 30}\n",
      "True\n",
      "False\n"
     ]
    },
    {
     "data": {
      "text/plain": [
       "('banana', 30)"
      ]
     },
     "execution_count": 238,
     "metadata": {},
     "output_type": "execute_result"
    }
   ],
   "source": [
    "# deleting data from dictionary\n",
    "# citizenship check\n",
    "print(fruits)\n",
    "print(\"apple\" in fruits) # returns true if available in the dict and false if not\n",
    "\n",
    "print(\"avacado\" in fruits)\n",
    "\n",
    "# pop\n",
    "\n",
    "# fruits.pop(\"apple\") # specified itme gets deleted\n",
    "fruits.popitem() # removes item from the last index\n",
    "\n",
    "# del \n",
    "\n",
    "# del fruits # delete whole fruits dictionary\n",
    "\n"
   ]
  },
  {
   "cell_type": "code",
   "execution_count": 274,
   "id": "a03e87ec-20e0-4eda-b1c3-30ff58079eb8",
   "metadata": {},
   "outputs": [
    {
     "name": "stdout",
     "output_type": "stream",
     "text": [
      "apple : 489\n",
      "orange : 140\n",
      "mango : {'small': 60, 'large': 90}\n",
      "grapes : 100\n",
      "guava : 45\n",
      "tomato : 35\n",
      "strawberry : 120\n"
     ]
    }
   ],
   "source": [
    "# iteration over dictionary\n",
    "\n",
    "for i in fruits:\n",
    "    print(i, \":\", fruits[i])"
   ]
  },
  {
   "cell_type": "code",
   "execution_count": 276,
   "id": "e19b9a0c-b654-4cbf-9a88-7bf0442c4f94",
   "metadata": {},
   "outputs": [
    {
     "name": "stdout",
     "output_type": "stream",
     "text": [
      "apple : 489\n",
      "orange : 140\n",
      "mango : {'small': 60, 'large': 90}\n",
      "grapes : 100\n",
      "guava : 45\n",
      "tomato : 35\n",
      "strawberry : 120\n"
     ]
    }
   ],
   "source": [
    "# using dict.item()\n",
    "\n",
    "for key, value in fruits.items():\n",
    "    print(key, \":\", value)\n"
   ]
  },
  {
   "cell_type": "code",
   "execution_count": 282,
   "id": "eac2fac1-f7a5-467f-93b5-a06558089d79",
   "metadata": {},
   "outputs": [
    {
     "name": "stdout",
     "output_type": "stream",
     "text": [
      "dict_keys(['apple', 'orange', 'mango', 'grapes', 'guava', 'tomato', 'strawberry'])\n",
      "dict_values([489, 140, {'small': 60, 'large': 90}, 100, 45, 35, 120])\n",
      "dict_items([('apple', 489), ('orange', 140), ('mango', {'small': 60, 'large': 90}), ('grapes', 100), ('guava', 45), ('tomato', 35), ('strawberry', 120)])\n"
     ]
    }
   ],
   "source": [
    "print(fruits.keys())\n",
    "print(fruits.values())\n",
    "print(fruits.items())\n"
   ]
  },
  {
   "cell_type": "code",
   "execution_count": 7,
   "id": "bcde63e7-74a9-4e7d-a93d-e1c61e13785e",
   "metadata": {},
   "outputs": [
    {
     "name": "stdin",
     "output_type": "stream",
     "text": [
      " 34 34\n"
     ]
    },
    {
     "name": "stdout",
     "output_type": "stream",
     "text": [
      "{'3': 2, '4': 2, ' ': 1}\n"
     ]
    }
   ],
   "source": [
    "# challenge\n",
    "\"\"\"\n",
    "Q. take an input and find the frequency of each letter and \n",
    "   return the letter and their frequency\n",
    "\"\"\"\n",
    "\n",
    "x = input()\n",
    "freq = {}\n",
    "\n",
    "for i in x:\n",
    "    if i not in freq:\n",
    "        freq[i] = 1\n",
    "\n",
    "    else:\n",
    "        freq[i] +=1\n",
    "\n",
    "print(freq)\n"
   ]
  },
  {
   "cell_type": "code",
   "execution_count": 300,
   "id": "8d77b46c-ca94-42b1-94de-8dffce17b129",
   "metadata": {},
   "outputs": [
    {
     "name": "stdout",
     "output_type": "stream",
     "text": [
      "This is not a member of the dictionary\n"
     ]
    }
   ],
   "source": [
    "dict1 = {'age': 35, 'name': 'abc', 'salary': 45000}\n",
    "\n",
    "val = dict1['age']\n",
    "\n",
    "if val in dict1:\n",
    "    print('This is a member of the dictionary')\n",
    "else:\n",
    "    print('This is not a member of the dictionary')\n"
   ]
  },
  {
   "cell_type": "code",
   "execution_count": 337,
   "id": "53e5b471-29f7-4de0-93b5-952beee18697",
   "metadata": {},
   "outputs": [
    {
     "name": "stdout",
     "output_type": "stream",
     "text": [
      "<class 'set'>\n",
      "{65, 2, 4, 5, 6, 7, 8, 434}\n",
      "{'o', 'D', 'h', ' ', 'n', 'e', 'J'}\n",
      "o\n",
      "D\n",
      "h\n",
      " \n",
      "n\n",
      "e\n",
      "J\n",
      "______ \n",
      "\n",
      "65\n",
      "2\n",
      "4\n",
      "5\n",
      "6\n",
      "7\n",
      "8\n",
      "434\n"
     ]
    }
   ],
   "source": [
    "# Sets\n",
    "'''\n",
    "- Unique collection (no duplicate items)\n",
    "- Unordered\n",
    "- Unindexed\n",
    "- Mutable\n",
    "'''\n",
    "# creating empty set\n",
    "s=set()\n",
    "print(type(s)) \n",
    "\n",
    "# creating not empty set\n",
    "\n",
    "s= {2,4,5,4,6,7,7,434,65,7,8}\n",
    "print(s)\n",
    "s2 = set(\"John Doe\")\n",
    "print(s2)\n",
    "\n",
    "# iterate\n",
    "for i in s2:\n",
    "    print(i)\n",
    "\n",
    "print(\"______ \\n\")\n",
    "for i in s:\n",
    "    print(i)"
   ]
  },
  {
   "cell_type": "code",
   "execution_count": 361,
   "id": "76cc8083-eef2-4a08-87b0-0c63dfcc5637",
   "metadata": {},
   "outputs": [
    {
     "name": "stdout",
     "output_type": "stream",
     "text": [
      "{65, 2, 4, 5, 6, 7, 8, 'o', 'D', 434, 'h', ' ', 'n', 89, 'e', 'J'}\n",
      "{65, 2, 4, 5, 6, 7, 8, 'o', 'D', 434, 'h', ' ', 'n', 89, 'e', 'J'}\n"
     ]
    }
   ],
   "source": [
    "# Updating a set\n",
    "'''\n",
    "- add : for single element\n",
    "- update (iteratable)\n",
    "'''\n",
    "s.add(89)\n",
    "print(s)\n",
    "\n",
    "# update \n",
    "name = \"John Doe\"\n",
    "s.update(name)\n",
    "print(s)\n"
   ]
  },
  {
   "cell_type": "code",
   "execution_count": 401,
   "id": "72df4839-f8c1-4964-9bd2-328c46b6d664",
   "metadata": {},
   "outputs": [
    {
     "name": "stdout",
     "output_type": "stream",
     "text": [
      "{1, 2, 3, 4, 5, 67, 56}\n",
      "{1, 2, 3, 4, 5, 56}\n"
     ]
    }
   ],
   "source": [
    "# deleting an element\n",
    "'''\n",
    "- pop : removes random element (we don't know what it is as it's an unordered collections)\n",
    "- remove (element) : removes particular element\n",
    "'''\n",
    "st = {1,2,3,4,5,56,67,1,2}\n",
    "print(st)\n",
    "# st.pop() # returns deleted item\n",
    "# print(st)\n",
    "\n",
    "st.remove(67) # does not return anything\n",
    "print(st)\n",
    "\n"
   ]
  },
  {
   "cell_type": "code",
   "execution_count": 417,
   "id": "c0f424b8-684c-4ecb-888b-a0aff99fda57",
   "metadata": {},
   "outputs": [
    {
     "name": "stdout",
     "output_type": "stream",
     "text": [
      " s = {1, 2, 3, 4, 5, 6, 7} , s2 = {5, 6, 7, 8, 9}\n",
      "{5, 6, 7}\n",
      "{5, 6, 7}\n"
     ]
    }
   ],
   "source": [
    "# Intersection\n",
    "# common in two sets\n",
    "\n",
    "s1 = {1,2,3,4,5,6,7}\n",
    "s2= {5,6,7,8,9}\n",
    "print(f\" s = {s1} , s2 = {s2}\")\n",
    "\n",
    "print(s1.intersection(s2))\n",
    "print(s2.intersection(s1))\n"
   ]
  },
  {
   "cell_type": "code",
   "execution_count": 421,
   "id": "d9b0aff8-f903-48f6-b3f9-3a52e13c57a1",
   "metadata": {},
   "outputs": [
    {
     "name": "stdout",
     "output_type": "stream",
     "text": [
      "{1, 2, 3, 4, 5, 6, 7, 8, 9}\n",
      "{1, 2, 3, 4, 5, 6, 7, 8, 9}\n"
     ]
    }
   ],
   "source": [
    "# Union\n",
    "# combinig two sets\n",
    "print(s1.union(s2))\n",
    "print(s2.union(s1))"
   ]
  },
  {
   "cell_type": "code",
   "execution_count": 427,
   "id": "a17a3f75-2d79-4f81-94df-0ae3ef251f19",
   "metadata": {},
   "outputs": [
    {
     "name": "stdout",
     "output_type": "stream",
     "text": [
      "{1, 2, 3, 4}\n",
      "{8, 9}\n"
     ]
    }
   ],
   "source": [
    "# Difference\n",
    "# disjunctive union / symmetric difference\n",
    "print(s1.difference(s2))\n",
    "print(s2.difference(s1))"
   ]
  },
  {
   "cell_type": "code",
   "execution_count": 7,
   "id": "1b13e438-fe81-4ce4-bf93-41f9ef376e46",
   "metadata": {},
   "outputs": [
    {
     "name": "stdout",
     "output_type": "stream",
     "text": [
      "['be', 'the', 'change', 'you', 'wish', 'to', 'see', 'in', 'the', 'world']\n",
      "{'you', 'change', 'see', 'in', 'to', 'world', 'the', 'be', 'wish'}\n",
      "Number of unique words in the sentence :  9\n"
     ]
    }
   ],
   "source": [
    "# Challenge : count number of unique element in a sentence\n",
    "sent = \"be the change you wish to see in the world\"\n",
    "lst = sent.split()\n",
    "print(lst)\n",
    "st =set(lst)\n",
    "print(st)\n",
    "no_of_unique_words = len(st)\n",
    "print(\"Number of unique words in the sentence : \",no_of_unique_words)\n",
    "    "
   ]
  },
  {
   "cell_type": "code",
   "execution_count": 31,
   "id": "a5c8258c-25e7-4f23-9e7a-4f24b11cdb1e",
   "metadata": {},
   "outputs": [
    {
     "name": "stdout",
     "output_type": "stream",
     "text": [
      "{1, 2, 3, 4, 5}\n"
     ]
    }
   ],
   "source": [
    "sets = {3, 4, 5} \n",
    "sets.update([1, 2, 3])\n",
    "sets = sets.union({1, 2, 3})\n",
    "print(sets)"
   ]
  },
  {
   "cell_type": "code",
   "execution_count": 46,
   "id": "1d1fbaa7-b614-4d12-82c1-4d1588207410",
   "metadata": {},
   "outputs": [
    {
     "name": "stdout",
     "output_type": "stream",
     "text": [
      "Hi, Gd Moring\n"
     ]
    }
   ],
   "source": [
    "# Functions\n",
    "'''\n",
    "- Function is a user defined place of code. It works only when it's called by user.\n",
    "  It helps in reusability of code and helps in reducing errors in you code.\n",
    "  eg. print, range, etc.\n",
    "- Make code manageable and organized\n",
    "- Function are of two types :\n",
    "         i> User defined\n",
    "        ii> Built-in\n",
    "'''\n",
    "\n",
    "# defining a function\n",
    "\n",
    "def greet():\n",
    "    # doctsting\n",
    "    '''\n",
    "    this fuctions greets when called\n",
    "    '''\n",
    "    # body of the function\n",
    "    print(\"Hi, Gd Moring\")\n",
    "\n",
    "#call the function\n",
    "\n",
    "greet()"
   ]
  },
  {
   "cell_type": "code",
   "execution_count": 54,
   "id": "5e1d751c-bf30-4832-9c41-dbb18c6af154",
   "metadata": {},
   "outputs": [
    {
     "data": {
      "text/plain": [
       "\u001b[1;31mSignature:\u001b[0m \u001b[0mgreet\u001b[0m\u001b[1;33m(\u001b[0m\u001b[1;33m)\u001b[0m\u001b[1;33m\u001b[0m\u001b[1;33m\u001b[0m\u001b[0m\n",
       "\u001b[1;31mDocstring:\u001b[0m this fuctions greets when called\n",
       "\u001b[1;31mFile:\u001b[0m      c:\\users\\kisla\\appdata\\local\\temp\\ipykernel_676\\503074467.py\n",
       "\u001b[1;31mType:\u001b[0m      function"
      ]
     },
     "metadata": {},
     "output_type": "display_data"
    }
   ],
   "source": [
    "# Docstring\n",
    "'''\n",
    "A docstring is a special kind of comment in Python,\n",
    "used to document modules, functions, classes, or methods.\n",
    "It provides a description of what the code does and \n",
    "helps explain how to use it\n",
    "'''\n",
    "\n",
    "greet?\n"
   ]
  },
  {
   "cell_type": "code",
   "execution_count": 76,
   "id": "729d18ea-71a9-40ca-968c-128cedc1e9b0",
   "metadata": {},
   "outputs": [
    {
     "name": "stdout",
     "output_type": "stream",
     "text": [
      "Good Mornig John Doe\n"
     ]
    }
   ],
   "source": [
    "# Parameters\n",
    "\"\"\"\n",
    "- These are place holders in the function\n",
    "- When definin them we call them as Parameters\n",
    "- When passing the actual value we call them as Arguments\n",
    "\"\"\"\n",
    "def greet(name): # name here is called parameter\n",
    "    print(f\"Good Mornig {name}\")\n",
    "\n",
    "greet(\"John Doe\")  # here name is called  argument"
   ]
  },
  {
   "cell_type": "code",
   "execution_count": 109,
   "id": "40ab6489-3e0b-47c9-8a74-66327f87cc48",
   "metadata": {},
   "outputs": [
    {
     "data": {
      "text/plain": [
       "7"
      ]
     },
     "execution_count": 109,
     "metadata": {},
     "output_type": "execute_result"
    }
   ],
   "source": [
    "# Return\n",
    "'''\n",
    "- A fn call end when return statement is executed\n",
    "- It returns the expression back to the function\n",
    "- The code after return statement are not executed\n",
    "- If there is no return value then function returns none in python\n",
    "'''\n",
    "\n",
    "def add (a,b):\n",
    "    return (a + b)\n",
    "\n",
    "add(3,4)\n"
   ]
  },
  {
   "cell_type": "code",
   "execution_count": 127,
   "id": "eb5fb502-1fcf-4452-95ff-47a8feed56a6",
   "metadata": {},
   "outputs": [
    {
     "data": {
      "text/plain": [
       "\"Hello, My name is John Doe and I'm 45 years old. I live in USA.\""
      ]
     },
     "execution_count": 127,
     "metadata": {},
     "output_type": "execute_result"
    }
   ],
   "source": [
    "# Returning mulitple values\n",
    "def intro(name,age,country):\n",
    "    return f\"Hello, My name is {name} and I'm {age} years old. I live in {country}.\"\n",
    "\n",
    "intro(\"John Doe\", 45, \"USA\")"
   ]
  },
  {
   "cell_type": "code",
   "execution_count": 129,
   "id": "7a9e62d2-d673-4a4c-998b-a72665034e3e",
   "metadata": {},
   "outputs": [
    {
     "name": "stdout",
     "output_type": "stream",
     "text": [
      "30\n",
      "5\n"
     ]
    }
   ],
   "source": [
    "# Scope of a variable\n",
    "'''\n",
    "- There are two scopes of a variable: Glbal and Local\n",
    "- Global variable can be used anywhere in a program\n",
    "- Local variable can only be used locally inside a program(function)\n",
    "'''\n",
    "a = 5\n",
    "def fn():\n",
    "    a = 30\n",
    "    print(a) # prints a from local code, ie. function scope. \n",
    "\n",
    "fn()\n",
    "print(a) # prints a from the global scope.\n",
    "\n",
    "     "
   ]
  },
  {
   "cell_type": "code",
   "execution_count": 137,
   "id": "e7d03534-be96-480c-88ae-6bd8e5a5996b",
   "metadata": {},
   "outputs": [
    {
     "name": "stdout",
     "output_type": "stream",
     "text": [
      "5\n",
      "30\n",
      "30\n"
     ]
    }
   ],
   "source": [
    "a = 5\n",
    "def fn2():\n",
    "    global a # explicitely saying that make a inside function scope a global scoped variable\n",
    "    a = 30\n",
    "    print(a)\n",
    "\n",
    "print(a) # prints 5 \n",
    "fn2() # prints 30 (value of a inside fn scope)\n",
    "print(a) # prints 30 since value of global variable a get update inside fn since a inside fn is explicitely made global"
   ]
  },
  {
   "cell_type": "code",
   "execution_count": 181,
   "id": "9081dc22-b7d9-4438-a11d-a00a04c7aaaa",
   "metadata": {},
   "outputs": [
    {
     "data": {
      "text/plain": [
       "-899"
      ]
     },
     "execution_count": 181,
     "metadata": {},
     "output_type": "execute_result"
    }
   ],
   "source": [
    "# Lambda Function\n",
    "# These are mainly used when we need nameless function for short period of time\n",
    "\n",
    "# normal fn\n",
    "def sub(a,b):\n",
    "    \n",
    "    return a -b\n",
    "    \n",
    "sub(8,89)\n",
    "\n",
    "\n",
    "# lambda fn\n",
    "lambda a,b : a-b\n",
    "(lambda a,b : a-b)(3,4)\n",
    "\n",
    "sub_fn = lambda a,b : a-b\n",
    "type(sub_fn)\n",
    "\n",
    "sub_fn(89,988)"
   ]
  },
  {
   "cell_type": "code",
   "execution_count": 211,
   "id": "ecc33cc6-f5c4-4a72-a159-dbee3043c38d",
   "metadata": {},
   "outputs": [
    {
     "data": {
      "text/plain": [
       "78"
      ]
     },
     "execution_count": 211,
     "metadata": {},
     "output_type": "execute_result"
    }
   ],
   "source": [
    "# normal fn\n",
    "\n",
    "def get_largest(a,b):\n",
    "    if a > b:\n",
    "        return a\n",
    "    else:\n",
    "        return b\n",
    "\n",
    "get_largest(89,78)\n",
    "\n",
    "# same with Lambda function\n",
    "(lambda a,b : a if a > b else b)(78,9)"
   ]
  },
  {
   "cell_type": "code",
   "execution_count": 243,
   "id": "66dcdf77-af3f-47cb-b10a-340c31582c55",
   "metadata": {},
   "outputs": [
    {
     "data": {
      "text/plain": [
       "[6, 4, 34, 78, 56]"
      ]
     },
     "execution_count": 243,
     "metadata": {},
     "output_type": "execute_result"
    }
   ],
   "source": [
    "# Challenge \n",
    "# fn to return the even numbers from a given list\n",
    "ls = [45,6,7,7,4,34,78,53,21,21,56,777,89,455]\n",
    "# ls = list(map(int, input(\"Enter numbers separated by spaces: \").split()))\n",
    "\n",
    "even_ls=[]\n",
    "def get_even(ls):\n",
    "    for i in ls:\n",
    "       if  i % 2 == 0:\n",
    "           even_ls.append(i)\n",
    "\n",
    "    if len(even_ls) >=1:\n",
    "        return even_ls\n",
    "\n",
    "    else:\n",
    "        return f\"No even numbers, {even_ls}\" \n",
    "\n",
    "get_even(ls)"
   ]
  },
  {
   "cell_type": "code",
   "execution_count": 267,
   "id": "d6bce774-a19a-4e10-89c4-c91779de2396",
   "metadata": {},
   "outputs": [
    {
     "data": {
      "text/plain": [
       "[34, 67, 6, 45, 7823, 23, 54, 55, 56]"
      ]
     },
     "execution_count": 267,
     "metadata": {},
     "output_type": "execute_result"
    }
   ],
   "source": [
    "# Challenge \n",
    "# fn that takes a list and returns a new list with unique elements of the first list\n",
    "\n",
    "ls = [45,45,56,34,34,54,55,6,67,7823,23,34,45,45]\n",
    "\n",
    "def get_unique_elem(ls):\n",
    "    temp_ls = set(ls) # convert the given list into set to remove duplicate el and only keep unique ones\n",
    "    unique_ls = list(temp_ls) # convert back , set to list and ready to return\n",
    "    return unique_ls\n",
    "\n",
    "get_unique_elem(ls)\n",
    "\n",
    "\n",
    "\n"
   ]
  },
  {
   "cell_type": "code",
   "execution_count": 269,
   "id": "377305b9-af86-445f-b330-2fdf86341736",
   "metadata": {},
   "outputs": [
    {
     "data": {
      "text/plain": [
       "[45, 56, 34, 54, 55, 6, 67, 7823, 23]"
      ]
     },
     "execution_count": 269,
     "metadata": {},
     "output_type": "execute_result"
    }
   ],
   "source": [
    "# uisng for loop\n",
    "unique_ls = []\n",
    "\n",
    "def get_unique_elem2(ls):\n",
    "    for i in ls:\n",
    "        if i not in unique_ls:\n",
    "            unique_ls.append(i)\n",
    "\n",
    "    return unique_ls\n",
    "            \n",
    "get_unique_elem2(ls)"
   ]
  },
  {
   "cell_type": "code",
   "execution_count": 283,
   "id": "8b29ae2a-f694-4d21-ac76-950adee839a9",
   "metadata": {},
   "outputs": [
    {
     "data": {
      "text/plain": [
       "'My name is jim and I live in usa'"
      ]
     },
     "execution_count": 283,
     "metadata": {},
     "output_type": "execute_result"
    }
   ],
   "source": [
    "# Default Arguments\n",
    "# for these parameters passing value in arguments is optional\n",
    "def intro(name, country = \"India\"):\n",
    "    return f\"My name is {name} and I live in {country}\"\n",
    "\n",
    "intro('jim')\n",
    "intro('jim',\"usa\")\n",
    "\n",
    "# Note - \"alway write param without default  before param with default. ie. param with default  follows param without default.\n"
   ]
  },
  {
   "cell_type": "code",
   "execution_count": 305,
   "id": "116b2cd8-0d4a-4edd-b5e0-9254d498ad34",
   "metadata": {},
   "outputs": [
    {
     "name": "stdout",
     "output_type": "stream",
     "text": [
      "(89, 493, 'Peter')\n",
      "<class 'tuple'>\n"
     ]
    }
   ],
   "source": [
    "# Arbitrary Arguments\n",
    "\"\"\"\n",
    "- When number of value you want to pass is not known.\n",
    "- Like we pass multiple values in print function.\n",
    "- The values are being stored in tuple.\n",
    "\"\"\"\n",
    "\n",
    "def test(*args):\n",
    "    print(args)\n",
    "    print(type(args))\n",
    "\n",
    "\n",
    "test(89,493,\"Peter\")"
   ]
  },
  {
   "cell_type": "code",
   "execution_count": 321,
   "id": "f032f0ab-1645-4d6e-a9bb-b5e402c08a12",
   "metadata": {},
   "outputs": [
    {
     "name": "stdout",
     "output_type": "stream",
     "text": [
      "name: Alice\n",
      "age: 30\n",
      "city: ['New York', 78, 78]\n",
      "2 4 5\n",
      "45\n",
      "()\n",
      "{}\n"
     ]
    }
   ],
   "source": [
    "# Keyword Arguments\n",
    "'''\n",
    "- variable number of keyword arguments\n",
    "- it stores the data in Dictionary format\n",
    "'''\n",
    "def print_info(**kwargs):\n",
    "    for key, value in kwargs.items():\n",
    "        print(f\"{key}: {value}\")\n",
    "\n",
    "print_info(name=\"Alice\", age=30, city=[\"New York\",78,78])\n"
   ]
  },
  {
   "cell_type": "code",
   "execution_count": 338,
   "id": "094738f5-7b32-47ca-8574-915ff5a51494",
   "metadata": {},
   "outputs": [
    {
     "name": "stdout",
     "output_type": "stream",
     "text": [
      "2 4 5\n",
      "45\n",
      "(78, 89, 89, 45)\n",
      "{'first_name': 'john', 'last_name': 'cena'}\n"
     ]
    }
   ],
   "source": [
    "# *args must be before **kwargs , lly, param without default > param with default> *args > **kwargs\n",
    "def mix(a, b, c, age=25, *args, **kwargs):\n",
    "    print(a, b, c)\n",
    "    print(age)\n",
    "    print(args)\n",
    "    print(kwargs)\n",
    "\n",
    "# a, b, c is neccessary or it will give TypeError\n",
    "mix(2, 4, 5,45,78,89,89,45, first_name=\"john\", last_name= \"cena\" )"
   ]
  },
  {
   "cell_type": "code",
   "execution_count": 16,
   "id": "8bd72c87-f55b-4c29-b67b-a8ebb9b1ce1c",
   "metadata": {},
   "outputs": [
    {
     "name": "stdout",
     "output_type": "stream",
     "text": [
      "Mohit 23\n",
      "Mohit 23\n",
      "23 Mohit\n"
     ]
    }
   ],
   "source": [
    "def fun1(name,age):\n",
    "    print (name,age)\n",
    "\n",
    "fun1(\"Mohit\", age=23)\n",
    "\n",
    "fun1(age =23, name=\"Mohit\")\n",
    "fun1(23, \"Mohit\")"
   ]
  },
  {
   "cell_type": "code",
   "execution_count": null,
   "id": "a3414f60-29df-4a29-a61d-6af30d78ad69",
   "metadata": {},
   "outputs": [],
   "source": []
  }
 ],
 "metadata": {
  "kernelspec": {
   "display_name": "Python 3 (ipykernel)",
   "language": "python",
   "name": "python3"
  },
  "language_info": {
   "codemirror_mode": {
    "name": "ipython",
    "version": 3
   },
   "file_extension": ".py",
   "mimetype": "text/x-python",
   "name": "python",
   "nbconvert_exporter": "python",
   "pygments_lexer": "ipython3",
   "version": "3.12.4"
  }
 },
 "nbformat": 4,
 "nbformat_minor": 5
}
