{
 "cells": [
  {
   "cell_type": "code",
   "execution_count": null,
   "id": "1d8798da-6c36-491e-8bc3-e31fe26d4a5e",
   "metadata": {},
   "outputs": [],
   "source": [
    "# show something as output: Use the print function"
   ]
  },
  {
   "cell_type": "code",
   "execution_count": 1,
   "id": "45ca3f56-8dd8-4703-aeec-bf878bf91904",
   "metadata": {},
   "outputs": [
    {
     "name": "stdout",
     "output_type": "stream",
     "text": [
      "Hello world\n"
     ]
    }
   ],
   "source": [
    "print(\"Hello world\")"
   ]
  },
  {
   "cell_type": "code",
   "execution_count": 58,
   "id": "8bf13c70-71a7-4a32-a5a1-e83a4a6600a3",
   "metadata": {},
   "outputs": [
    {
     "name": "stdout",
     "output_type": "stream",
     "text": [
      "990.0\n"
     ]
    }
   ],
   "source": [
    "casting_variable_type = float(990)\n",
    "print(casting_variable_type)\n"
   ]
  },
  {
   "cell_type": "code",
   "execution_count": 19,
   "id": "1990c486-5262-4c5d-a43d-7159b4d3ab7a",
   "metadata": {},
   "outputs": [
    {
     "name": "stdout",
     "output_type": "stream",
     "text": [
      "\n",
      "Here is a list of the Python keywords.  Enter any keyword to get more help.\n",
      "\n",
      "False               class               from                or\n",
      "None                continue            global              pass\n",
      "True                def                 if                  raise\n",
      "and                 del                 import              return\n",
      "as                  elif                in                  try\n",
      "assert              else                is                  while\n",
      "async               except              lambda              with\n",
      "await               finally             nonlocal            yield\n",
      "break               for                 not                 \n",
      "\n"
     ]
    }
   ],
   "source": [
    "help(\"keywords\")\n"
   ]
  },
  {
   "cell_type": "code",
   "execution_count": 37,
   "id": "6c0d3d0f-85b8-4bc8-9dcd-c2a99f5753a6",
   "metadata": {},
   "outputs": [
    {
     "data": {
      "text/plain": [
       "140711979661912"
      ]
     },
     "execution_count": 37,
     "metadata": {},
     "output_type": "execute_result"
    }
   ],
   "source": [
    "x = 6\n",
    "id(x)\n",
    "# id() returns unique identifier (typically memory address)"
   ]
  },
  {
   "cell_type": "code",
   "execution_count": 50,
   "id": "99e7e720-5a02-40cf-a01e-f7fbc0f7d062",
   "metadata": {},
   "outputs": [
    {
     "data": {
      "text/plain": [
       "float"
      ]
     },
     "execution_count": 50,
     "metadata": {},
     "output_type": "execute_result"
    }
   ],
   "source": [
    " # Data types in python\n",
    "# intger\n",
    "# float\n",
    "# boolean\n",
    "# string\n",
    "# none\n",
    "type(9.9)\n"
   ]
  },
  {
   "cell_type": "code",
   "execution_count": 62,
   "id": "19947a27-cb86-4a0c-b5f1-8fafff96b0e7",
   "metadata": {},
   "outputs": [
    {
     "name": "stdin",
     "output_type": "stream",
     "text": [
      " ram\n"
     ]
    }
   ],
   "source": [
    "name = input()"
   ]
  },
  {
   "cell_type": "code",
   "execution_count": 64,
   "id": "68f4af3c-a9db-42c9-a96a-6f0c6a041861",
   "metadata": {},
   "outputs": [
    {
     "name": "stdout",
     "output_type": "stream",
     "text": [
      "ram\n"
     ]
    }
   ],
   "source": [
    "print (name)\n"
   ]
  },
  {
   "cell_type": "code",
   "execution_count": 82,
   "id": "582db6e5-978b-4e4c-8343-19015a16606d",
   "metadata": {},
   "outputs": [
    {
     "name": "stdout",
     "output_type": "stream",
     "text": [
      "Enter Two Number\n"
     ]
    },
    {
     "name": "stdin",
     "output_type": "stream",
     "text": [
      " 99\n",
      " 9\n"
     ]
    },
    {
     "name": "stdout",
     "output_type": "stream",
     "text": [
      "108\n"
     ]
    }
   ],
   "source": [
    "# take two numbers as input and give sum\n",
    "\n",
    "print(\"Enter Two Number\")\n",
    "a = int(input())\n",
    "b =int(input())\n",
    "sum=a + b\n",
    "print(sum)"
   ]
  },
  {
   "cell_type": "code",
   "execution_count": 84,
   "id": "4e0c7f92-1fe4-49bd-bb1c-0ad661928b90",
   "metadata": {},
   "outputs": [
    {
     "name": "stdout",
     "output_type": "stream",
     "text": [
      "Object `import` not found.\n"
     ]
    }
   ],
   "source": [
    "import?\n"
   ]
  },
  {
   "cell_type": "code",
   "execution_count": 86,
   "id": "baf54b83-9c36-4f9d-a83d-325922faba1e",
   "metadata": {},
   "outputs": [
    {
     "data": {
      "text/plain": [
       "\u001b[1;31mSignature:\u001b[0m \u001b[0mprint\u001b[0m\u001b[1;33m(\u001b[0m\u001b[1;33m*\u001b[0m\u001b[0margs\u001b[0m\u001b[1;33m,\u001b[0m \u001b[0msep\u001b[0m\u001b[1;33m=\u001b[0m\u001b[1;34m' '\u001b[0m\u001b[1;33m,\u001b[0m \u001b[0mend\u001b[0m\u001b[1;33m=\u001b[0m\u001b[1;34m'\\n'\u001b[0m\u001b[1;33m,\u001b[0m \u001b[0mfile\u001b[0m\u001b[1;33m=\u001b[0m\u001b[1;32mNone\u001b[0m\u001b[1;33m,\u001b[0m \u001b[0mflush\u001b[0m\u001b[1;33m=\u001b[0m\u001b[1;32mFalse\u001b[0m\u001b[1;33m)\u001b[0m\u001b[1;33m\u001b[0m\u001b[1;33m\u001b[0m\u001b[0m\n",
       "\u001b[1;31mDocstring:\u001b[0m\n",
       "Prints the values to a stream, or to sys.stdout by default.\n",
       "\n",
       "sep\n",
       "  string inserted between values, default a space.\n",
       "end\n",
       "  string appended after the last value, default a newline.\n",
       "file\n",
       "  a file-like object (stream); defaults to the current sys.stdout.\n",
       "flush\n",
       "  whether to forcibly flush the stream.\n",
       "\u001b[1;31mType:\u001b[0m      builtin_function_or_method"
      ]
     },
     "metadata": {},
     "output_type": "display_data"
    }
   ],
   "source": [
    "print?"
   ]
  },
  {
   "cell_type": "code",
   "execution_count": 88,
   "id": "913ea5ee-031d-4a6d-82b6-868ce4919679",
   "metadata": {},
   "outputs": [
    {
     "name": "stdout",
     "output_type": "stream",
     "text": [
      "tony thor\n"
     ]
    }
   ],
   "source": [
    "# sep\n",
    "print(\"tony\",\"thor\")"
   ]
  },
  {
   "cell_type": "code",
   "execution_count": 108,
   "id": "866e377d-38f7-4a7d-9b0b-5a7feab002fa",
   "metadata": {},
   "outputs": [
    {
     "name": "stdout",
     "output_type": "stream",
     "text": [
      "tony , thor\n",
      "New\n",
      "Line\n"
     ]
    }
   ],
   "source": [
    "print(\"tony\",\"thor\" ,sep=\" , \")\n",
    "print(\"New\",\"Line\" ,sep=\"\\n\")"
   ]
  },
  {
   "cell_type": "code",
   "execution_count": 126,
   "id": "eff259c8-e309-47ec-9bb8-382ff5f2a4a1",
   "metadata": {},
   "outputs": [
    {
     "name": "stdout",
     "output_type": "stream",
     "text": [
      "tony 32\n",
      "loki 1500\n"
     ]
    }
   ],
   "source": [
    "# changing the default separator\n",
    "print(\"tony\",32,  end =\" \")\n",
    "print(\"loki\",1500) "
   ]
  },
  {
   "cell_type": "code",
   "execution_count": null,
   "id": "0afa3444-c7ed-4dc7-b00f-22298c284a23",
   "metadata": {},
   "outputs": [],
   "source": [
    "# // - floor divison, the result is floored to the nearest smaller integer\n",
    "a =8\n",
    "b=6\n",
    "print(a/b)\n",
    "print(a//b) # // floor division\n",
    "c= -3\n",
    "d=2\n",
    "print(c//d)"
   ]
  },
  {
   "cell_type": "code",
   "execution_count": 147,
   "id": "c3b6b74c-cddf-467e-acf4-572381777b66",
   "metadata": {},
   "outputs": [],
   "source": [
    "# conditional operators in python\n",
    "# and\n",
    "# or\n",
    "# not"
   ]
  },
  {
   "cell_type": "code",
   "execution_count": 189,
   "id": "4395ae09-38ff-46f5-9c5f-f73a2f4d3902",
   "metadata": {},
   "outputs": [
    {
     "name": "stdout",
     "output_type": "stream",
     "text": [
      "140711979661848\n",
      "140711979663160\n"
     ]
    },
    {
     "data": {
      "text/plain": [
       "False"
      ]
     },
     "execution_count": 189,
     "metadata": {},
     "output_type": "execute_result"
    }
   ],
   "source": [
    "# special operators\n",
    "# in operator (membership operator)\n",
    "# is operator\n",
    "\n",
    "# in operator tells you if an object is part of other object or not\n",
    "\n",
    "name =\"john doe\"\n",
    "\"john\" in name\n",
    "\n",
    "# is operator tells you if both the object are at the same memory location?\n",
    "a = 4\n",
    "b= 4\n",
    "print(id(a))\n",
    "print(id(b))\n",
    "a is b"
   ]
  },
  {
   "cell_type": "code",
   "execution_count": 199,
   "id": "404aebaf-673a-4e84-ad1d-7f2bdcb4848a",
   "metadata": {},
   "outputs": [
    {
     "name": "stdout",
     "output_type": "stream",
     "text": [
      "1\n"
     ]
    }
   ],
   "source": [
    "print(0 or 1)\n"
   ]
  },
  {
   "cell_type": "code",
   "execution_count": 201,
   "id": "097102f1-9095-4b83-9f7e-71c36a8faa4d",
   "metadata": {},
   "outputs": [
    {
     "name": "stdout",
     "output_type": "stream",
     "text": [
      "<class 'float'>\n"
     ]
    }
   ],
   "source": [
    "print(type(6 / 3))"
   ]
  },
  {
   "cell_type": "code",
   "execution_count": 203,
   "id": "a7f85316-44cc-48fe-a81a-52f3baed066f",
   "metadata": {},
   "outputs": [
    {
     "name": "stdout",
     "output_type": "stream",
     "text": [
      "2.0\n"
     ]
    }
   ],
   "source": [
    "print(6 / 3)"
   ]
  },
  {
   "cell_type": "code",
   "execution_count": 210,
   "id": "4e823c7a-da73-4b50-9864-ef575183eb96",
   "metadata": {},
   "outputs": [
    {
     "name": "stdin",
     "output_type": "stream",
     "text": [
      " 32\n"
     ]
    },
    {
     "name": "stdout",
     "output_type": "stream",
     "text": [
      "you are eligible to vote\n"
     ]
    }
   ],
   "source": [
    "# control flow statement\n",
    "age = int(input())\n",
    "if age > 18:\n",
    "    print(\"you are eligible to vote\")\n",
    "\n",
    "else:\n",
    "    print(\"you are not eligible to vote\")\n",
    "\n",
    "\n"
   ]
  },
  {
   "cell_type": "code",
   "execution_count": 218,
   "id": "5fae5662-d4d9-4d3f-9bba-c66f683aa751",
   "metadata": {},
   "outputs": [
    {
     "name": "stdout",
     "output_type": "stream",
     "text": [
      "99\n"
     ]
    }
   ],
   "source": [
    "marks =[89,78,89,6,89,89,90,27,78,89,99]\n",
    "highest = marks[0]\n",
    "for i in marks:\n",
    "    if i>highest:\n",
    "        highest = i\n",
    "\n",
    "print(highest)"
   ]
  },
  {
   "cell_type": "code",
   "execution_count": 220,
   "id": "ca4155fc-af10-4d79-a48e-b199f44fa133",
   "metadata": {},
   "outputs": [
    {
     "data": {
      "text/plain": [
       "99"
      ]
     },
     "execution_count": 220,
     "metadata": {},
     "output_type": "execute_result"
    }
   ],
   "source": [
    "# using max()\n",
    "max(marks)\n"
   ]
  },
  {
   "cell_type": "code",
   "execution_count": 222,
   "id": "d3ef00c5-014e-4d71-9f56-fd920b53d52a",
   "metadata": {},
   "outputs": [
    {
     "data": {
      "text/plain": [
       "6"
      ]
     },
     "execution_count": 222,
     "metadata": {},
     "output_type": "execute_result"
    }
   ],
   "source": [
    "# find min mark using min()\n",
    "min(marks)"
   ]
  },
  {
   "cell_type": "code",
   "execution_count": 258,
   "id": "0076c095-4adf-41bf-b515-95e53b9d1a99",
   "metadata": {},
   "outputs": [
    {
     "name": "stdin",
     "output_type": "stream",
     "text": [
      " -8\n"
     ]
    },
    {
     "name": "stdout",
     "output_type": "stream",
     "text": [
      "Invalid Score\n"
     ]
    }
   ],
   "source": [
    "#challenge\n",
    "# grading system\n",
    "marks = int(input())\n",
    "\n",
    "if marks >=90 and marks <=100:\n",
    "    print(\"Grade A\")\n",
    "\n",
    "elif marks<=90 and marks>80:\n",
    "    print(\"Grade B\")\n",
    "\n",
    "elif marks <=80 and marks > 70:\n",
    "    print (\"Grade C\")\n",
    "\n",
    "elif marks <= 70 and marks > 60:\n",
    "    print (\"Grade D\")\n",
    "\n",
    "elif marks <= 60 and marks > 30:\n",
    "    print (\"Grade E\")\n",
    "\n",
    "\n",
    "\n",
    "elif marks <= 30 and marks >= 0:\n",
    "    print (\"Fail\")\n",
    "else :\n",
    "    print (\"Invalid Score\")"
   ]
  },
  {
   "cell_type": "code",
   "execution_count": 264,
   "id": "b07db641-9ef9-464d-80da-c08d9870b94f",
   "metadata": {},
   "outputs": [
    {
     "data": {
      "text/plain": [
       "True"
      ]
     },
     "execution_count": 264,
     "metadata": {},
     "output_type": "execute_result"
    }
   ],
   "source": [
    "4 ==4\n"
   ]
  },
  {
   "cell_type": "code",
   "execution_count": 10,
   "id": "ffb6b884-5b49-402c-adcc-27544fe0a9fe",
   "metadata": {},
   "outputs": [
    {
     "name": "stdout",
     "output_type": "stream",
     "text": [
      "Hi this iteration no :  1\n",
      "Hi this iteration no :  2\n",
      "Hi this iteration no :  3\n",
      "Hi this iteration no :  4\n",
      "Hi this iteration no :  5\n",
      "Hi this iteration no :  6\n"
     ]
    }
   ],
   "source": [
    "# loop in python\n",
    "# for \n",
    "# while\n",
    "\n",
    "i = 1\n",
    "while i<=6 :\n",
    "    print(\"Hi this iteration no : \",i)\n",
    "    i+=1\n",
    "    "
   ]
  },
  {
   "cell_type": "code",
   "execution_count": null,
   "id": "dc035c8e-8768-4cf8-97a7-a0aad3e1653c",
   "metadata": {},
   "outputs": [],
   "source": []
  }
 ],
 "metadata": {
  "kernelspec": {
   "display_name": "Python 3 (ipykernel)",
   "language": "python",
   "name": "python3"
  },
  "language_info": {
   "codemirror_mode": {
    "name": "ipython",
    "version": 3
   },
   "file_extension": ".py",
   "mimetype": "text/x-python",
   "name": "python",
   "nbconvert_exporter": "python",
   "pygments_lexer": "ipython3",
   "version": "3.12.4"
  }
 },
 "nbformat": 4,
 "nbformat_minor": 5
}
