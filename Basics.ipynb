{
 "cells": [
  {
   "cell_type": "code",
   "execution_count": null,
   "id": "1d8798da-6c36-491e-8bc3-e31fe26d4a5e",
   "metadata": {},
   "outputs": [],
   "source": [
    "# show something as output: Use the print function"
   ]
  },
  {
   "cell_type": "code",
   "execution_count": 1,
   "id": "45ca3f56-8dd8-4703-aeec-bf878bf91904",
   "metadata": {},
   "outputs": [
    {
     "name": "stdout",
     "output_type": "stream",
     "text": [
      "Hello world\n"
     ]
    }
   ],
   "source": [
    "print(\"Hello world\")"
   ]
  },
  {
   "cell_type": "code",
   "execution_count": 58,
   "id": "8bf13c70-71a7-4a32-a5a1-e83a4a6600a3",
   "metadata": {},
   "outputs": [
    {
     "name": "stdout",
     "output_type": "stream",
     "text": [
      "990.0\n"
     ]
    }
   ],
   "source": [
    "casting_variable_type = float(990)\n",
    "print(casting_variable_type)\n"
   ]
  },
  {
   "cell_type": "code",
   "execution_count": 19,
   "id": "1990c486-5262-4c5d-a43d-7159b4d3ab7a",
   "metadata": {},
   "outputs": [
    {
     "name": "stdout",
     "output_type": "stream",
     "text": [
      "\n",
      "Here is a list of the Python keywords.  Enter any keyword to get more help.\n",
      "\n",
      "False               class               from                or\n",
      "None                continue            global              pass\n",
      "True                def                 if                  raise\n",
      "and                 del                 import              return\n",
      "as                  elif                in                  try\n",
      "assert              else                is                  while\n",
      "async               except              lambda              with\n",
      "await               finally             nonlocal            yield\n",
      "break               for                 not                 \n",
      "\n"
     ]
    }
   ],
   "source": [
    "help(\"keywords\")\n"
   ]
  },
  {
   "cell_type": "code",
   "execution_count": 37,
   "id": "6c0d3d0f-85b8-4bc8-9dcd-c2a99f5753a6",
   "metadata": {},
   "outputs": [
    {
     "data": {
      "text/plain": [
       "140711979661912"
      ]
     },
     "execution_count": 37,
     "metadata": {},
     "output_type": "execute_result"
    }
   ],
   "source": [
    "x = 6\n",
    "id(x)\n",
    "# id() returns unique identifier (typically memory address)"
   ]
  },
  {
   "cell_type": "code",
   "execution_count": 50,
   "id": "99e7e720-5a02-40cf-a01e-f7fbc0f7d062",
   "metadata": {},
   "outputs": [
    {
     "data": {
      "text/plain": [
       "float"
      ]
     },
     "execution_count": 50,
     "metadata": {},
     "output_type": "execute_result"
    }
   ],
   "source": [
    " # Data types in python\n",
    "# intger\n",
    "# float\n",
    "# boolean\n",
    "# string\n",
    "# none\n",
    "type(9.9)\n"
   ]
  },
  {
   "cell_type": "code",
   "execution_count": 62,
   "id": "19947a27-cb86-4a0c-b5f1-8fafff96b0e7",
   "metadata": {},
   "outputs": [
    {
     "name": "stdin",
     "output_type": "stream",
     "text": [
      " ram\n"
     ]
    }
   ],
   "source": [
    "name = input()"
   ]
  },
  {
   "cell_type": "code",
   "execution_count": 64,
   "id": "68f4af3c-a9db-42c9-a96a-6f0c6a041861",
   "metadata": {},
   "outputs": [
    {
     "name": "stdout",
     "output_type": "stream",
     "text": [
      "ram\n"
     ]
    }
   ],
   "source": [
    "print (name)\n"
   ]
  },
  {
   "cell_type": "code",
   "execution_count": 82,
   "id": "582db6e5-978b-4e4c-8343-19015a16606d",
   "metadata": {},
   "outputs": [
    {
     "name": "stdout",
     "output_type": "stream",
     "text": [
      "Enter Two Number\n"
     ]
    },
    {
     "name": "stdin",
     "output_type": "stream",
     "text": [
      " 99\n",
      " 9\n"
     ]
    },
    {
     "name": "stdout",
     "output_type": "stream",
     "text": [
      "108\n"
     ]
    }
   ],
   "source": [
    "# take two numbers as input and give sum\n",
    "\n",
    "print(\"Enter Two Number\")\n",
    "a = int(input())\n",
    "b =int(input())\n",
    "sum=a + b\n",
    "print(sum)"
   ]
  },
  {
   "cell_type": "code",
   "execution_count": 84,
   "id": "4e0c7f92-1fe4-49bd-bb1c-0ad661928b90",
   "metadata": {},
   "outputs": [
    {
     "name": "stdout",
     "output_type": "stream",
     "text": [
      "Object `import` not found.\n"
     ]
    }
   ],
   "source": [
    "import?\n"
   ]
  },
  {
   "cell_type": "code",
   "execution_count": 86,
   "id": "baf54b83-9c36-4f9d-a83d-325922faba1e",
   "metadata": {},
   "outputs": [
    {
     "data": {
      "text/plain": [
       "\u001b[1;31mSignature:\u001b[0m \u001b[0mprint\u001b[0m\u001b[1;33m(\u001b[0m\u001b[1;33m*\u001b[0m\u001b[0margs\u001b[0m\u001b[1;33m,\u001b[0m \u001b[0msep\u001b[0m\u001b[1;33m=\u001b[0m\u001b[1;34m' '\u001b[0m\u001b[1;33m,\u001b[0m \u001b[0mend\u001b[0m\u001b[1;33m=\u001b[0m\u001b[1;34m'\\n'\u001b[0m\u001b[1;33m,\u001b[0m \u001b[0mfile\u001b[0m\u001b[1;33m=\u001b[0m\u001b[1;32mNone\u001b[0m\u001b[1;33m,\u001b[0m \u001b[0mflush\u001b[0m\u001b[1;33m=\u001b[0m\u001b[1;32mFalse\u001b[0m\u001b[1;33m)\u001b[0m\u001b[1;33m\u001b[0m\u001b[1;33m\u001b[0m\u001b[0m\n",
       "\u001b[1;31mDocstring:\u001b[0m\n",
       "Prints the values to a stream, or to sys.stdout by default.\n",
       "\n",
       "sep\n",
       "  string inserted between values, default a space.\n",
       "end\n",
       "  string appended after the last value, default a newline.\n",
       "file\n",
       "  a file-like object (stream); defaults to the current sys.stdout.\n",
       "flush\n",
       "  whether to forcibly flush the stream.\n",
       "\u001b[1;31mType:\u001b[0m      builtin_function_or_method"
      ]
     },
     "metadata": {},
     "output_type": "display_data"
    }
   ],
   "source": [
    "print?"
   ]
  },
  {
   "cell_type": "code",
   "execution_count": 88,
   "id": "913ea5ee-031d-4a6d-82b6-868ce4919679",
   "metadata": {},
   "outputs": [
    {
     "name": "stdout",
     "output_type": "stream",
     "text": [
      "tony thor\n"
     ]
    }
   ],
   "source": [
    "# sep\n",
    "print(\"tony\",\"thor\")"
   ]
  },
  {
   "cell_type": "code",
   "execution_count": 108,
   "id": "866e377d-38f7-4a7d-9b0b-5a7feab002fa",
   "metadata": {},
   "outputs": [
    {
     "name": "stdout",
     "output_type": "stream",
     "text": [
      "tony , thor\n",
      "New\n",
      "Line\n"
     ]
    }
   ],
   "source": [
    "print(\"tony\",\"thor\" ,sep=\" , \")\n",
    "print(\"New\",\"Line\" ,sep=\"\\n\")"
   ]
  },
  {
   "cell_type": "code",
   "execution_count": 126,
   "id": "eff259c8-e309-47ec-9bb8-382ff5f2a4a1",
   "metadata": {},
   "outputs": [
    {
     "name": "stdout",
     "output_type": "stream",
     "text": [
      "tony 32\n",
      "loki 1500\n"
     ]
    }
   ],
   "source": [
    "# changing the default separator\n",
    "print(\"tony\",32,  end =\" \")\n",
    "print(\"loki\",1500) "
   ]
  },
  {
   "cell_type": "code",
   "execution_count": null,
   "id": "0afa3444-c7ed-4dc7-b00f-22298c284a23",
   "metadata": {},
   "outputs": [],
   "source": [
    "# // - floor divison, the result is floored to the nearest smaller integer\n",
    "a =8\n",
    "b=6\n",
    "print(a/b)\n",
    "print(a//b) # // floor division\n",
    "c= -3\n",
    "d=2\n",
    "print(c//d)"
   ]
  },
  {
   "cell_type": "code",
   "execution_count": 147,
   "id": "c3b6b74c-cddf-467e-acf4-572381777b66",
   "metadata": {},
   "outputs": [],
   "source": [
    "# conditional operators in python\n",
    "# and\n",
    "# or\n",
    "# not"
   ]
  },
  {
   "cell_type": "code",
   "execution_count": 189,
   "id": "4395ae09-38ff-46f5-9c5f-f73a2f4d3902",
   "metadata": {},
   "outputs": [
    {
     "name": "stdout",
     "output_type": "stream",
     "text": [
      "140711979661848\n",
      "140711979663160\n"
     ]
    },
    {
     "data": {
      "text/plain": [
       "False"
      ]
     },
     "execution_count": 189,
     "metadata": {},
     "output_type": "execute_result"
    }
   ],
   "source": [
    "# special operators\n",
    "# in operator (membership operator)\n",
    "# is operator\n",
    "\n",
    "# in operator tells you if an object is part of other object or not\n",
    "\n",
    "name =\"john doe\"\n",
    "\"john\" in name\n",
    "\n",
    "# is operator tells you if both the object are at the same memory location?\n",
    "a = 4\n",
    "b= 4\n",
    "print(id(a))\n",
    "print(id(b))\n",
    "a is b"
   ]
  },
  {
   "cell_type": "code",
   "execution_count": 199,
   "id": "404aebaf-673a-4e84-ad1d-7f2bdcb4848a",
   "metadata": {},
   "outputs": [
    {
     "name": "stdout",
     "output_type": "stream",
     "text": [
      "1\n"
     ]
    }
   ],
   "source": [
    "print(0 or 1)\n"
   ]
  },
  {
   "cell_type": "code",
   "execution_count": 201,
   "id": "097102f1-9095-4b83-9f7e-71c36a8faa4d",
   "metadata": {},
   "outputs": [
    {
     "name": "stdout",
     "output_type": "stream",
     "text": [
      "<class 'float'>\n"
     ]
    }
   ],
   "source": [
    "print(type(6 / 3))"
   ]
  },
  {
   "cell_type": "code",
   "execution_count": 203,
   "id": "a7f85316-44cc-48fe-a81a-52f3baed066f",
   "metadata": {},
   "outputs": [
    {
     "name": "stdout",
     "output_type": "stream",
     "text": [
      "2.0\n"
     ]
    }
   ],
   "source": [
    "print(6 / 3)"
   ]
  },
  {
   "cell_type": "code",
   "execution_count": 210,
   "id": "4e823c7a-da73-4b50-9864-ef575183eb96",
   "metadata": {},
   "outputs": [
    {
     "name": "stdin",
     "output_type": "stream",
     "text": [
      " 32\n"
     ]
    },
    {
     "name": "stdout",
     "output_type": "stream",
     "text": [
      "you are eligible to vote\n"
     ]
    }
   ],
   "source": [
    "# control flow statement\n",
    "age = int(input())\n",
    "if age > 18:\n",
    "    print(\"you are eligible to vote\")\n",
    "\n",
    "else:\n",
    "    print(\"you are not eligible to vote\")\n",
    "\n",
    "\n"
   ]
  },
  {
   "cell_type": "code",
   "execution_count": 218,
   "id": "5fae5662-d4d9-4d3f-9bba-c66f683aa751",
   "metadata": {},
   "outputs": [
    {
     "name": "stdout",
     "output_type": "stream",
     "text": [
      "99\n"
     ]
    }
   ],
   "source": [
    "marks =[89,78,89,6,89,89,90,27,78,89,99]\n",
    "highest = marks[0]\n",
    "for i in marks:\n",
    "    if i>highest:\n",
    "        highest = i\n",
    "\n",
    "print(highest)"
   ]
  },
  {
   "cell_type": "code",
   "execution_count": 220,
   "id": "ca4155fc-af10-4d79-a48e-b199f44fa133",
   "metadata": {},
   "outputs": [
    {
     "data": {
      "text/plain": [
       "99"
      ]
     },
     "execution_count": 220,
     "metadata": {},
     "output_type": "execute_result"
    }
   ],
   "source": [
    "# using max()\n",
    "max(marks)\n"
   ]
  },
  {
   "cell_type": "code",
   "execution_count": 222,
   "id": "d3ef00c5-014e-4d71-9f56-fd920b53d52a",
   "metadata": {},
   "outputs": [
    {
     "data": {
      "text/plain": [
       "6"
      ]
     },
     "execution_count": 222,
     "metadata": {},
     "output_type": "execute_result"
    }
   ],
   "source": [
    "# find min mark using min()\n",
    "min(marks)"
   ]
  },
  {
   "cell_type": "code",
   "execution_count": 258,
   "id": "0076c095-4adf-41bf-b515-95e53b9d1a99",
   "metadata": {},
   "outputs": [
    {
     "name": "stdin",
     "output_type": "stream",
     "text": [
      " -8\n"
     ]
    },
    {
     "name": "stdout",
     "output_type": "stream",
     "text": [
      "Invalid Score\n"
     ]
    }
   ],
   "source": [
    "#challenge\n",
    "# grading system\n",
    "marks = int(input())\n",
    "\n",
    "if marks >=90 and marks <=100:\n",
    "    print(\"Grade A\")\n",
    "\n",
    "elif marks<=90 and marks>80:\n",
    "    print(\"Grade B\")\n",
    "\n",
    "elif marks <=80 and marks > 70:\n",
    "    print (\"Grade C\")\n",
    "\n",
    "elif marks <= 70 and marks > 60:\n",
    "    print (\"Grade D\")\n",
    "\n",
    "elif marks <= 60 and marks > 30:\n",
    "    print (\"Grade E\")\n",
    "\n",
    "\n",
    "\n",
    "elif marks <= 30 and marks >= 0:\n",
    "    print (\"Fail\")\n",
    "else :\n",
    "    print (\"Invalid Score\")"
   ]
  },
  {
   "cell_type": "code",
   "execution_count": 264,
   "id": "b07db641-9ef9-464d-80da-c08d9870b94f",
   "metadata": {},
   "outputs": [
    {
     "data": {
      "text/plain": [
       "True"
      ]
     },
     "execution_count": 264,
     "metadata": {},
     "output_type": "execute_result"
    }
   ],
   "source": [
    "4 ==4\n"
   ]
  },
  {
   "cell_type": "code",
   "execution_count": null,
   "id": "ffb6b884-5b49-402c-adcc-27544fe0a9fe",
   "metadata": {},
   "outputs": [],
   "source": [
    "# loop in python\n",
    "# for \n",
    "# while\n",
    "\n",
    "i = 1\n",
    "while i<=6 :\n",
    "    print(\"Hi this iteration no : \",i)\n",
    "    i+=1\n",
    "    "
   ]
  },
  {
   "cell_type": "code",
   "execution_count": 52,
   "id": "dc035c8e-8768-4cf8-97a7-a0aad3e1653c",
   "metadata": {},
   "outputs": [
    {
     "name": "stdout",
     "output_type": "stream",
     "text": [
      "1\n",
      "2\n",
      "3\n",
      "4\n",
      "5\n",
      "6\n",
      "7\n",
      "8\n",
      "9\n",
      "10\n"
     ]
    }
   ],
   "source": [
    "# pritn all numbers from 1 to 10 using loop\n",
    "\n",
    "# using while loop\n",
    "# count =1 \n",
    "# while count <=10:\n",
    "#     print (count) \n",
    "#     count +=1\n",
    "\n",
    "\n",
    "# using for loop\n",
    "\n",
    "for i in range(1,11):\n",
    "    print (i)\n",
    "\n",
    "# # in reverse using for loop\n",
    "# for i in range(10,1,-1): # range(start, stop, step)\n",
    "#     print (i)"
   ]
  },
  {
   "cell_type": "code",
   "execution_count": 70,
   "id": "b7d980cc-a52c-4243-b7ba-cfb45c489284",
   "metadata": {},
   "outputs": [
    {
     "name": "stdout",
     "output_type": "stream",
     "text": [
      "0 2 4 6 8 10 "
     ]
    }
   ],
   "source": [
    "# print even numbers in given range\n",
    "\n",
    "# using while loop\n",
    "# i = 0\n",
    "# while i<=10:\n",
    "#     if i % 2==0 :\n",
    "#         print(i, end=\" \")\n",
    "#     i+=1\n",
    "\n",
    "    \n",
    "\n",
    "# using for loop\n",
    "for i in range (0,11):\n",
    "    if i%2 == 0:\n",
    "        print(i ,end = \" \")"
   ]
  },
  {
   "cell_type": "code",
   "execution_count": 8,
   "id": "a98e7997-361b-4d80-892b-9f741bc48885",
   "metadata": {},
   "outputs": [
    {
     "name": "stdout",
     "output_type": "stream",
     "text": [
      "55\n"
     ]
    }
   ],
   "source": [
    "# print sum of numbers in given range\n",
    "\n",
    "# using while loop\n",
    "sum = 0\n",
    "i=0\n",
    "while i<=10:\n",
    "    sum+=i\n",
    "    i+=1\n",
    "    \n",
    "print(sum)\n",
    "\n",
    "# using for loop\n",
    "# sum= 0\n",
    "# for i in range(0,11):\n",
    "#     sum+=i\n",
    "# print(sum, end =\" \")\n"
   ]
  },
  {
   "cell_type": "code",
   "execution_count": 26,
   "id": "dddf1b76-a99a-4aac-bcbe-2ba5e9e42326",
   "metadata": {},
   "outputs": [
    {
     "name": "stdout",
     "output_type": "stream",
     "text": [
      "[0, 1, 2, 3, 4, 5, 6, 7, 8, 9]\n"
     ]
    },
    {
     "data": {
      "text/plain": [
       "[0, 1, 2, 3, 4, 5, 6, 7, 8, 9]"
      ]
     },
     "execution_count": 26,
     "metadata": {},
     "output_type": "execute_result"
    }
   ],
   "source": [
    "print(list(range(10)))\n",
    "list(range(10))"
   ]
  },
  {
   "cell_type": "code",
   "execution_count": 78,
   "id": "247514ea-e59c-4617-9e2e-35c378f1f60e",
   "metadata": {},
   "outputs": [
    {
     "name": "stdin",
     "output_type": "stream",
     "text": [
      " 78\n"
     ]
    },
    {
     "name": "stdout",
     "output_type": "stream",
     "text": [
      "78 x 1 = 78\n",
      "78 x 2 = 156\n",
      "78 x 3 = 234\n",
      "78 x 4 = 312\n",
      "78 x 5 = 390\n",
      "78 x 6 = 468\n",
      "78 x 7 = 546\n",
      "78 x 8 = 624\n",
      "78 x 9 = 702\n",
      "78 x 10 = 780\n"
     ]
    }
   ],
   "source": [
    "# Iterator, Iterable and Iteration\n",
    "\n",
    "# print multiplication table of 5\n",
    "\n",
    "# for i in list(range(1,11)):\n",
    "#     # print(i*5)\n",
    "#     print(f\"5 x {i} = {i * 5}\")\n",
    "\n",
    "\n",
    "# take input n from the user and give table of n \n",
    "n = int(input())\n",
    "\n",
    "for i in range(1,11):\n",
    "    # print (i * n)\n",
    "    print (f\"{n} x {i} = {i * n}\")\n",
    "    \n"
   ]
  },
  {
   "cell_type": "code",
   "execution_count": 138,
   "id": "568f7c60-d8ea-44ae-bdd7-c57d0c99d65c",
   "metadata": {},
   "outputs": [
    {
     "name": "stdin",
     "output_type": "stream",
     "text": [
      " 6\n"
     ]
    },
    {
     "name": "stdout",
     "output_type": "stream",
     "text": [
      "# # # # # # \n",
      "# # # # # # \n",
      "# # # # # # \n",
      "# # # # # # \n",
      "# # # # # # \n",
      "# # # # # # \n"
     ]
    }
   ],
   "source": [
    "# print the pattern 1\n",
    "n = int(input())\n",
    "\n",
    "for i in range(1,n+1):\n",
    "    for j in range(1,n+1):\n",
    "        print(\"#\", end = \" \")\n",
    "    print(\"\")\n"
   ]
  },
  {
   "cell_type": "markdown",
   "id": "a750c5fd-7af8-4749-80ef-4b1189b3313c",
   "metadata": {},
   "source": [
    "##### "
   ]
  },
  {
   "cell_type": "code",
   "execution_count": 170,
   "id": "6abd945c-dd43-4063-b12a-b4cd2bfb509c",
   "metadata": {},
   "outputs": [
    {
     "name": "stdin",
     "output_type": "stream",
     "text": [
      " 7\n"
     ]
    },
    {
     "name": "stdout",
     "output_type": "stream",
     "text": [
      "# \n",
      "# # \n",
      "# # # \n",
      "# # # # \n",
      "# # # # # \n",
      "# # # # # # \n",
      "# # # # # # # \n"
     ]
    }
   ],
   "source": [
    "# print pattern 2\n",
    "\n",
    "n = int(input())\n",
    "\n",
    "for i in range(n):\n",
    "    for j in range(i+1):\n",
    "        print(\"#\",end=\" \")\n",
    "    print(\"\")"
   ]
  },
  {
   "cell_type": "raw",
   "id": "957bb8e1-46f8-41ac-9267-4f85daa39173",
   "metadata": {},
   "source": [
    "# Break , Continue and Pass\n",
    "# These statements are used to alter the flow of a program\n",
    "# Break: Breaks teh flow of a program once the conditon is hit\n",
    "# Continue: It skips the particular iteration\n",
    "# Pass: To avoid syntax error. Mainly used as the placeholder for the future code, it does nothing and let the code run forward.\n"
   ]
  },
  {
   "cell_type": "code",
   "execution_count": 258,
   "id": "7165bf80-b334-4238-ad5b-ec47aceb8320",
   "metadata": {},
   "outputs": [
    {
     "name": "stdin",
     "output_type": "stream",
     "text": [
      " 5\n"
     ]
    },
    {
     "name": "stdout",
     "output_type": "stream",
     "text": [
      "    *\n",
      "   ***\n",
      "  *****\n",
      " *******\n",
      "*********\n"
     ]
    }
   ],
   "source": [
    "\n",
    "n = int(input())\n",
    "# for i in range(n+1):\n",
    "#     for j in range(n-i):\n",
    "#         print(\" \" ,end= \"\")\n",
    "\n",
    "#     for k in range(i):\n",
    "#         print(\"* \", end=\"\")\n",
    "#     print(\"\")\n",
    "\n",
    "# for i in range(n+1):\n",
    "#     # print spaces\n",
    "#     for j in range(n-i):\n",
    "#         print(\" \", end=\"\")\n",
    "#     for k in range(i):\n",
    "#         print(\"* \",end=\"\")\n",
    "#     print(\"\")\n",
    "\n",
    "def star_pattern(n):\n",
    "    for i in range(n):\n",
    "        for j in range(n-i-1):\n",
    "            print(\" \", end=\"\")\n",
    "        for k in range(2*i + 1):\n",
    "            print(\"*\",end=\"\")\n",
    "        print(\"\")\n",
    "    \n",
    "star_pattern(5)\n"
   ]
  },
  {
   "cell_type": "code",
   "execution_count": 264,
   "id": "48a3e59e-ad09-4331-b5c0-91395ad1f240",
   "metadata": {},
   "outputs": [
    {
     "name": "stdout",
     "output_type": "stream",
     "text": [
      "610\n"
     ]
    }
   ],
   "source": [
    "for x in range(11):\n",
    "       if x == 6:\n",
    "           print(x,end=\"\")\n",
    "print(x)\n"
   ]
  },
  {
   "cell_type": "code",
   "execution_count": 319,
   "id": "c1fe8525-fff4-4df3-831f-9c9494dac2bb",
   "metadata": {},
   "outputs": [
    {
     "data": {
      "text/plain": [
       "'😀'"
      ]
     },
     "execution_count": 319,
     "metadata": {},
     "output_type": "execute_result"
    }
   ],
   "source": [
    "#strings\n",
    "\n",
    "# ord() and chr()\n",
    "# ord(),\"ordinal\", function takes a single character (a string of length 1) as an argument and returns its integer Unicode code point (ASCII value for standard ASCII characters)\n",
    "# chr() function takes an integer (Unicode code point) as an argument and returns the corresponding character\n",
    "ord(\"A\")\n",
    "chr(2325)\n",
    "chr(128512)\n",
    "\n"
   ]
  },
  {
   "cell_type": "code",
   "execution_count": 202,
   "id": "dd90cbc5-4c8b-42f6-a759-e6a8c081e0db",
   "metadata": {},
   "outputs": [
    {
     "name": "stdout",
     "output_type": "stream",
     "text": [
      "John cena\n",
      "john cena\n",
      "1\n",
      "b'\\xff\\xfej\\x00o\\x00h\\x00n\\x00 \\x00C\\x00e\\x00n\\x00a\\x00'\n",
      "False\n",
      "True\n",
      "-1\n",
      "8\n",
      "False\n",
      "False\n",
      "True\n",
      "jai Cena\n",
      "-1\n",
      "john Cena\n",
      "('', 'j', 'ohn Cena')\n",
      "['joh', ' Ce', 'a']\n",
      "jhiohihhinhi hiChiehinhia\n",
      "a\n",
      "9\n",
      "john C\n",
      "john Cena\n",
      "onC\n",
      "aneC nhoj\n",
      "a\n"
     ]
    }
   ],
   "source": [
    "# indexing in string\n",
    "\n",
    "name = \"john Cena\"\n",
    "print(name.capitalize())\n",
    "print(name.casefold()) # coverts string into lower case\n",
    "print(name.count(\"j\")) # count the number of time a specified value occures\n",
    "print(name.encode('utf-16')) # Returns an encoded version of the string\n",
    "print(name.endswith('c')) # Returns true if the string ends with the specified value\n",
    "print(name.endswith('a')) \n",
    "print(name.find('ar')) # all that but return -1 if not found\n",
    "print(name.index(\"a\")) # all that but raises ValueError if not found , ie. \"substring not found\"\n",
    "print(name.isalnum()) # return true if all characters in the string are alphanumeric\n",
    "print(name.isalpha()) # return true if all characters in the string are in the alphabet\n",
    "print(name.isascii()) # return true if all characters in the string are in the alphabet\n",
    "\n",
    "print(name.replace(\"john\", \"jai\"))\n",
    "print(name.rfind(\"a\",0,6)) # find the last occurance of the specied value, ie. string.rfind(value, start, end) . If start and end is not specified it find the occurence in whole string from start to bottom\n",
    "print(name.strip()) # strip method removes any leading and trailing whitespaces\n",
    "\n",
    "print(name.rpartition(\"j\")) #Returns a tuple where the string is parted into three parts\n",
    "print(name.rsplit(\"n\")) #Splits the string at the specified separator, and returns a list\n",
    "print(\"hi\".join(name)) #Splits the string at the specified separator, and returns a list\n",
    "print(name[-1]) # accessing the characters in string\n",
    "print(len(name)) # length of the string\n",
    "print(name[0:6]) # slicing of string\n",
    "print(name[0:len(name)]) # slicing of string (taking till last index\n",
    "print(name[1:6:2]) # steps(jump), start, end, jump(step)\n",
    "print(name[::-1]) # steps(jump), start, end, jump(step)\n",
    "print(name[::-len(name)]) # steps(jump), start, end, jump(step)\n",
    "\n",
    "\n",
    "\n"
   ]
  },
  {
   "cell_type": "code",
   "execution_count": 210,
   "id": "e7977f4d-bd8e-4af9-93d7-ba11a257a1d6",
   "metadata": {},
   "outputs": [
    {
     "name": "stdin",
     "output_type": "stream",
     "text": [
      " sam\n",
      " 89\n"
     ]
    },
    {
     "name": "stdout",
     "output_type": "stream",
     "text": [
      "Hello, My name is sam and I am 89 years old.!\n"
     ]
    }
   ],
   "source": [
    "# string formatting\n",
    "name = input()\n",
    "age=input()\n",
    "print(\"Hello, My name is\", name, \"and I am\", age, \"years old.!\")"
   ]
  },
  {
   "cell_type": "code",
   "execution_count": 234,
   "id": "71861b51-7b0e-41f3-b672-0d4cda688781",
   "metadata": {},
   "outputs": [
    {
     "name": "stdin",
     "output_type": "stream",
     "text": [
      " John Doe\n",
      " 45\n"
     ]
    },
    {
     "name": "stdout",
     "output_type": "stream",
     "text": [
      "Hey my name is John Doe and I am 45 years old\n"
     ]
    }
   ],
   "source": [
    "name = input()\n",
    "age=input()\n",
    "print(\"Hey my name is {} and I am {} years old\".format(name,age))"
   ]
  },
  {
   "cell_type": "code",
   "execution_count": 232,
   "id": "973878c1-d0f4-4bcc-955c-6e90827d2223",
   "metadata": {},
   "outputs": [
    {
     "name": "stdin",
     "output_type": "stream",
     "text": [
      " John Cena\n",
      " 45\n"
     ]
    },
    {
     "name": "stdout",
     "output_type": "stream",
     "text": [
      "Hey my name is John Cena and I am 45 years old\n"
     ]
    }
   ],
   "source": [
    "name = input()\n",
    "age=input()\n",
    "print(f\"Hey my name is {name} and I am {age} years old\")"
   ]
  },
  {
   "cell_type": "code",
   "execution_count": 262,
   "id": "e4fd3337-5f27-4be1-8316-cd89ad18e1c9",
   "metadata": {},
   "outputs": [
    {
     "name": "stdout",
     "output_type": "stream",
     "text": [
      "PeterParkerKumar\n",
      "PeterParkerKumarPeterParkerKumarPeterParkerKumar\n"
     ]
    }
   ],
   "source": [
    "# string concatenation (adding two strings)\n",
    "first_name = \"Peter\"\n",
    "middle_name = \"Parker\"\n",
    "last_name = \"Kumar\"\n",
    "print(first_name + middle_name + last_name)\n",
    "print((first_name + middle_name + last_name) * 3) # can only multiply string and integer"
   ]
  },
  {
   "cell_type": "code",
   "execution_count": 316,
   "id": "8946573e-c493-4da5-bf3e-ce4fe2e722f0",
   "metadata": {},
   "outputs": [
    {
     "name": "stdin",
     "output_type": "stream",
     "text": [
      " my name is khan\n"
     ]
    },
    {
     "name": "stdout",
     "output_type": "stream",
     "text": [
      "['a', 'e', 'i', 'a']\n"
     ]
    }
   ],
   "source": [
    "#challenge\n",
    "# print all vowels of a given string\n",
    "# text= \"The quick brown fox jumps over the lazy dog\"\n",
    "text=input()\n",
    "vowels=[]\n",
    "\n",
    "for i in text:\n",
    "    if i== \"a\" or i=='e' or i=='i'or i=='o'or i=='u' or i== \"A\" or i=='E' or i=='I'or i=='O'or i=='U':\n",
    "       vowels.append(i)\n",
    "\n",
    "if vowels:\n",
    "    print(vowels)\n",
    "\n",
    "else: \n",
    "    print(f'No vowels in \"{text}\"')\n",
    "\n",
    "\n",
    "\n",
    "    \n",
    "    # if (vowel == text.find('a')||vowel == text.find('e')||vowel text.find(== 'o')||vowel == text.find('u')||vowel == text.find('i'):\n",
    "    #     print(vowel);\n",
    "    # else :\n",
    "    #     print(\"\")\n",
    "        "
   ]
  },
  {
   "cell_type": "code",
   "execution_count": 21,
   "id": "bea91c83-fb30-4cb8-afd4-7bbb1e9cea0a",
   "metadata": {},
   "outputs": [
    {
     "name": "stdin",
     "output_type": "stream",
     "text": [
      " rotator\n"
     ]
    },
    {
     "name": "stdout",
     "output_type": "stream",
     "text": [
      "yes! 'rotator' is palindrome. i.e. 'rotator' = 'rotator'\n"
     ]
    }
   ],
   "source": [
    "#challenge \n",
    "# Find if a string is palindrome (sequence that reads the same backwards as forwards)\n",
    "\n",
    "str = input()\n",
    "\n",
    "if str == str[::-1]:\n",
    "    print(f\"yes! '{str}' is palindrome. i.e. '{str}' = '{str[::-1]}'\")\n",
    "else:\n",
    "    print(f\"NO!, '{str}' is not a palindrome.\")\n"
   ]
  },
  {
   "cell_type": "code",
   "execution_count": 37,
   "id": "28c4938d-0ee1-49ed-9814-00bb202e7404",
   "metadata": {},
   "outputs": [
    {
     "name": "stdout",
     "output_type": "stream",
     "text": [
      "20\n"
     ]
    }
   ],
   "source": [
    "# Challenge - Length of unique words\n",
    "# Given two sentences, write a program to return the sum of the total number of unique words from each sentence.\n",
    "\n",
    "\n",
    "def set_operation(sent1, sent2):\n",
    "    ''' \n",
    "    input: sent1, sent2 - two sentences taken as inputs\n",
    "    output: return the sum of the length of unique words.\n",
    "    '''\n",
    "    # split the setntences and keep them in set\n",
    "    unique_words_in_sent1 = set(sent1.split()) # set does not keep duplicate items. ie. automatically filter unique words\n",
    "    unique_words_in_sent2 = set(sent2.split())\n",
    "\n",
    "    total_unique_words = len(unique_words_in_sent1) + len(unique_words_in_sent2)\n",
    "\n",
    "    return total_unique_words\n",
    "\n",
    "# Sample input\n",
    "sent1 = \"in data analysis we use data and process it further to create better interpreted data\"\n",
    "sent2 = \"more and more data will be passively collected\"\n",
    "\n",
    "# Function call\n",
    "print(set_operation(sent1, sent2))  # Output should be 20\n",
    "\n"
   ]
  },
  {
   "cell_type": "code",
   "execution_count": 65,
   "id": "e770c4ff-b207-471c-92f3-c0dfeee62492",
   "metadata": {},
   "outputs": [
    {
     "name": "stdout",
     "output_type": "stream",
     "text": [
      "<class 'list'>\n",
      "<class 'list'>\n",
      "[2, 2, 34, 4, 'g']\n",
      "1764683175232\n",
      "140712098347544\n",
      "[2, 2, 34, 566, 'g']\n",
      "1764683175232\n",
      "1764677611856\n",
      "[2, 2, 34, 4, 'g']\n",
      "2\n",
      "2\n",
      "34\n",
      "566\n",
      "g\n"
     ]
    }
   ],
   "source": [
    "# Data Structure in Python\n",
    "# a data structure is a specialized format for organizing, processing, retrieving and storing data.\n",
    "# 1. Lists\n",
    "\"\"\"\n",
    "a. Ordered collection of data\n",
    "b. Lists are mutable type of DataStructure\n",
    "c. It can contain muliple types of Data\n",
    "d. Lists are changeable (Mutable)\n",
    "e. Lists are iterable\n",
    "\"\"\"\n",
    "# creating a list \n",
    "'''\n",
    "i>  l = []\n",
    "ii> l = list()\n",
    "'''\n",
    "l = []\n",
    "ls = list()\n",
    "print(type(l))\n",
    "print(type(ls))\n",
    "l2 = [2,2,34,4,\"g\"]\n",
    "l3 = list((2,2,34,4,\"g\"))\n",
    "print(l2)\n",
    "print(id(l2)) # address of the list\n",
    "print(id(l2[3])) # addrees of element at 3rd index before changing the element\n",
    "l2[3]=566 # mutable\n",
    "print(l2)\n",
    "print(id(l2)) # address of the list doesnot change when one element is mutated but that mutated element's address may change\n",
    "print(id(l2[3]))# addrees of element at 3rd index after changing the element\n",
    "print(l3)\n",
    "\n",
    "## lists are iretable \n",
    "for i in l2:\n",
    "    print(i)"
   ]
  },
  {
   "cell_type": "code",
   "execution_count": 97,
   "id": "5d3de9f7-2654-4364-8570-70ed452843d9",
   "metadata": {},
   "outputs": [
    {
     "name": "stdout",
     "output_type": "stream",
     "text": [
      "[2, 12, 34]\n",
      "[2, 12, 34, 4, 89, 90]\n"
     ]
    }
   ],
   "source": [
    "#List slicing\n",
    "ls = [2,12,34,4,89,90]\n",
    "print(ls[0:3]) # start index is included but end index is excluded\n",
    "print(ls[0:len(ls)])\n",
    "\n"
   ]
  },
  {
   "cell_type": "code",
   "execution_count": 183,
   "id": "d7980c89-0a7f-4afc-af9d-428752c51943",
   "metadata": {},
   "outputs": [
    {
     "name": "stdout",
     "output_type": "stream",
     "text": [
      "2\n",
      "0\n",
      "2\n",
      "2\n",
      "[56, 67, 89, 98, 79, 89]\n",
      "89\n",
      "[56, 67, 89, 98, 79]\n",
      "None\n",
      "[56, 67, 89, 79]\n",
      "None\n",
      "None\n",
      "None\n",
      "[789, 56, 67, 79, 89, 999]\n",
      "None\n",
      "[789, 56, 67, 79, 89, 999, [85, 45, 76]]\n"
     ]
    }
   ],
   "source": [
    "# list operations\n",
    "# count\n",
    "# index\n",
    "# pop\n",
    "# remove\n",
    "# sort\n",
    "# insert\n",
    "# append\n",
    "# extend\n",
    "score = [56,67,89,98,79,89]\n",
    "print(score.count(89)) # count the number of times the arg is in the list\n",
    "print(score.count(100)) # return 0 if not found\n",
    "print(score.index(89)) # return first index found and retrun valueError if not found\n",
    "print(score.index(89)) # return first index found and retrun valueError if not found\n",
    "print(score)\n",
    "print(score.pop()) # remove one element from last index\n",
    "print(score)\n",
    "print(score.remove(98))\n",
    "print(score)\n",
    "print(score.sort())\n",
    "print(score.insert(0,789)) # insert new element inplace of selected index\n",
    "print(score.append(999))\n",
    "print(score)\n",
    "newScore = [85,45,76]\n",
    "print(score.append(newScore))\n",
    "print(score)\n",
    "\n",
    "# extend\n"
   ]
  },
  {
   "cell_type": "code",
   "execution_count": 201,
   "id": "c6fa135a-8998-4534-b20b-5f293c47fe08",
   "metadata": {},
   "outputs": [
    {
     "name": "stdout",
     "output_type": "stream",
     "text": [
      "['hi', 78, 'jim', 90]\n"
     ]
    }
   ],
   "source": [
    "# Hetrogenous Lists - list that contains items of two or more data types\n",
    "ls = [\"hi\",78,\"jim\",90]\n",
    "print(ls)"
   ]
  },
  {
   "cell_type": "code",
   "execution_count": 242,
   "id": "8d1b3108-c5a7-4bc5-a4d1-b3d4b25d8b31",
   "metadata": {},
   "outputs": [
    {
     "name": "stdout",
     "output_type": "stream",
     "text": [
      "[45, 65, 23, 41, 25, 13, 67, 99, 12]\n",
      "[[45, 65, 23], [41, 25, 13], [67, 99, 12]]\n",
      "[41, 25, 13]\n",
      "25\n"
     ]
    }
   ],
   "source": [
    "# 2D list-  list inside list\n",
    "ls1 = [45,65,23]\n",
    "ls2 = [41,25,13]\n",
    "ls3 = [67,99,12]\n",
    "# ls1.append(ls2)\n",
    "\n",
    "# print(ls1)\n",
    "# ls1.extend(ls2)\n",
    "# print(ls1)\n",
    "\n",
    "ls123=ls1 + ls2 +ls3\n",
    "print(ls123)\n",
    "l=[ls1,ls2,ls3]\n",
    "print(l)\n",
    "print(l[1])\n",
    "print(l[1][1])"
   ]
  },
  {
   "cell_type": "code",
   "execution_count": 292,
   "id": "d9dffecb-4745-4e66-a56b-d6b90aea1aee",
   "metadata": {},
   "outputs": [
    {
     "name": "stdout",
     "output_type": "stream",
     "text": [
      "[[45, 65, 23], [41, 25, 13], [67, 99, 12]]\n",
      "iterate over each list in the 2d list\n",
      "[45, 65, 23]\n",
      "[41, 25, 13]\n",
      "[67, 99, 12]\n",
      "iterate over each item in the 2d list\n",
      "45\n",
      "65\n",
      "23\n",
      "41\n",
      "25\n",
      "13\n",
      "67\n",
      "99\n",
      "12\n",
      "iterate over l[0]\n",
      "45\n",
      "65\n",
      "23\n"
     ]
    }
   ],
   "source": [
    "# iteration on 2D list\n",
    "print(l)\n",
    "print(\"iterate over each list in the 2d list\")\n",
    "\n",
    "for i in l:\n",
    "    print(i)\n",
    "\n",
    "print(\"iterate over each item in the 2d list\")\n",
    "\n",
    "for i in l:\n",
    "    for j in i:\n",
    "        print(j)\n",
    "\n",
    "print(\"iterate over l[0]\")\n",
    "for i in l[0]:\n",
    "    print(i)"
   ]
  },
  {
   "cell_type": "code",
   "execution_count": 355,
   "id": "7730a6ba-e3be-414e-9d8e-2a3bf67863e8",
   "metadata": {},
   "outputs": [
    {
     "name": "stdout",
     "output_type": "stream",
     "text": [
      "[0, 1, 2, 3, 4, 5, 6, 7, 8, 9, 10, 11, 12, 13, 14, 15, 16, 17, 18, 19]\n",
      "[0, 1, 2, 3, 4, 5, 6, 7, 8, 9, 10, 11, 12, 13, 14, 15, 16, 17, 18, 19, 20, 21, 22]\n",
      "[0, 1, 4, 9, 16, 25, 36, 49, 64, 81, 100, 121, 144, 169, 196, 225, 256, 289, 324, 361, 400, 441, 484]\n"
     ]
    }
   ],
   "source": [
    "# List comprehension\n",
    "\n",
    "# for i in range(10):\n",
    "#     print(i, end=\", \\n__\\n\")\n",
    "\n",
    "# traditional way\n",
    "ls = []\n",
    "\n",
    "for i in range(20):\n",
    "    ls.append(i)\n",
    "\n",
    "print(ls)\n",
    "\n",
    "# list comprehension\n",
    "ls = [i for i in range(23)]\n",
    "print(ls)\n",
    "\n",
    "ls = [i**2 for i in range(23)]\n",
    "print(ls)"
   ]
  },
  {
   "cell_type": "code",
   "execution_count": null,
   "id": "66a6a499-ba0b-4619-8b65-f87bc44c4aa2",
   "metadata": {},
   "outputs": [],
   "source": []
  },
  {
   "cell_type": "code",
   "execution_count": null,
   "id": "4c8f31f7-af9d-46f4-8ddd-c7326085fc43",
   "metadata": {},
   "outputs": [],
   "source": []
  }
 ],
 "metadata": {
  "kernelspec": {
   "display_name": "Python 3 (ipykernel)",
   "language": "python",
   "name": "python3"
  },
  "language_info": {
   "codemirror_mode": {
    "name": "ipython",
    "version": 3
   },
   "file_extension": ".py",
   "mimetype": "text/x-python",
   "name": "python",
   "nbconvert_exporter": "python",
   "pygments_lexer": "ipython3",
   "version": "3.12.4"
  }
 },
 "nbformat": 4,
 "nbformat_minor": 5
}
